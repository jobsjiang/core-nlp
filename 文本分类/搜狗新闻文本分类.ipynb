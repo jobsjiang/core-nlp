{
 "cells": [
  {
   "cell_type": "markdown",
   "metadata": {},
   "source": [
    "https://mp.weixin.qq.com/s?__biz=MjM5ODkzMzMwMQ==&mid=2650411814&idx=2&sn=225056e502b4987bd0659430597af747&chksm=becd957c89ba1c6ab12405a4c08c7e34c06434cfb200789298886f15a4ee9f72545b64870a02&scene=0&xtrack=1&key=d2fe37bcc08aacf52b5242bd717999c33f3ee38d3b08cfee91f772a7cc00937e93b0ee9e54f71cc207c15b44e1eae93612948889b1b79fe70406f1e1c6a54b07f86d8fe81104aeb3b3d6f69649996e69&ascene=1&uin=MjA1MjAyODkxNg%3D%3D&devicetype=Windows+10&version=62070158&lang=zh_CN&pass_ticket=9t6lnP6fp6%2F5STJhGbrlZDhkc%2Bc%2BVN%2FfwoxlsjVSK04LgqlmrlIlQ6psBFn8Rjo8"
   ]
  },
  {
   "cell_type": "code",
   "execution_count": null,
   "metadata": {},
   "outputs": [],
   "source": []
  }
 ],
 "metadata": {
  "kernelspec": {
   "display_name": "Python [conda env:root] *",
   "language": "python",
   "name": "conda-root-py"
  },
  "language_info": {
   "codemirror_mode": {
    "name": "ipython",
    "version": 3
   },
   "file_extension": ".py",
   "mimetype": "text/x-python",
   "name": "python",
   "nbconvert_exporter": "python",
   "pygments_lexer": "ipython3",
   "version": "3.6.5"
  }
 },
 "nbformat": 4,
 "nbformat_minor": 4
}
