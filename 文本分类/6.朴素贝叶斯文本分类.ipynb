{
 "cells": [
  {
   "cell_type": "markdown",
   "metadata": {},
   "source": [
    "https://mp.weixin.qq.com/s/ph5KbDxS7QR3I_ev-Js2RQ"
   ]
  },
  {
   "cell_type": "code",
   "execution_count": 5,
   "metadata": {},
   "outputs": [],
   "source": [
    "import random,nltk\n",
    "import jieba.posseg as pesg"
   ]
  },
  {
   "cell_type": "code",
   "execution_count": 2,
   "metadata": {},
   "outputs": [],
   "source": [
    "stop_word = ['吗','呢','了','啦','哈','!','，','？','。',\"？\",'！',',','.']"
   ]
  },
  {
   "cell_type": "code",
   "execution_count": 3,
   "metadata": {},
   "outputs": [],
   "source": [
    "# 进行数据读取\n",
    "def read_data(filename):\n",
    "    data = []\n",
    "    with open(filename,encoding='utf-8') as f:\n",
    "        for line in f:\n",
    "            label,sentence = line.split('\\t')\n",
    "            sentence_list = sentence.split(';')\n",
    "            data.extend([(sentence,label) for sentence in sentence_list if sentence])\n",
    "    return data"
   ]
  },
  {
   "cell_type": "code",
   "execution_count": 4,
   "metadata": {},
   "outputs": [],
   "source": [
    "# 停用词处理\n",
    "def delte_stop_word(sentence):\n",
    "    for word in sentence:\n",
    "        if word in stop_word:\n",
    "            sentence.replace(word,'')\n",
    "    return sentence"
   ]
  },
  {
   "cell_type": "code",
   "execution_count": 11,
   "metadata": {},
   "outputs": [],
   "source": [
    "# 进行特征选择，这里利用分词后的词性作为特征\n",
    "def get_word_features(sentence):\n",
    "    data = {}\n",
    "    sentence = delte_stop_word(sentence)\n",
    "    seg_list = pesg.cut(sentence)\n",
    "    for word,tag in seg_list:\n",
    "        data[tag] = word\n",
    "    return data"
   ]
  },
  {
   "cell_type": "code",
   "execution_count": 12,
   "metadata": {},
   "outputs": [],
   "source": [
    "# 构建训练数据集\n",
    "def get_features_sets(datafile):\n",
    "    feature_sets = []\n",
    "    for sentence,label in read_data(datafile):\n",
    "        feature = get_word_feature(sentence)\n",
    "        feature_sets.append((feature,label))\n",
    "    return feature_sets"
   ]
  },
  {
   "cell_type": "code",
   "execution_count": 13,
   "metadata": {},
   "outputs": [],
   "source": [
    "classifier = nltk.NaiveBayesClassifier.train(get_features_sets('../dataset/data.txt'))"
   ]
  },
  {
   "cell_type": "code",
   "execution_count": 16,
   "metadata": {},
   "outputs": [
    {
     "name": "stdout",
     "output_type": "stream",
     "text": [
      "﻿checkWeather\n",
      "0.6000000000000002\n"
     ]
    }
   ],
   "source": [
    "predict_label = classifier.classify(get_word_features('请问明天的天气怎么样？'))\n",
    "print(predict_label)\n",
    "print(classifier.prob_classify(get_word_features('请问明天的天气怎么样？')).prob(predict_label))"
   ]
  },
  {
   "cell_type": "code",
   "execution_count": null,
   "metadata": {
    "scrolled": false
   },
   "outputs": [],
   "source": [
    "while True:\n",
    "    print(\"请输入您要预测的句子：\")\n",
    "    sentente = input()\n",
    "    predict_label = classifier.classify(get_word_features(sentente))\n",
    "\n",
    "    prob = (classifier.prob_classify(get_word_features(sentente)).prob(predict_label))  # 0.995154\n",
    "    print(\"文本<%s>预测类别为：%s 概率为 %f \"%( sentente, predict_label, prob) )"
   ]
  }
 ],
 "metadata": {
  "kernelspec": {
   "display_name": "Python [conda env:root] *",
   "language": "python",
   "name": "conda-root-py"
  },
  "language_info": {
   "codemirror_mode": {
    "name": "ipython",
    "version": 3
   },
   "file_extension": ".py",
   "mimetype": "text/x-python",
   "name": "python",
   "nbconvert_exporter": "python",
   "pygments_lexer": "ipython3",
   "version": "3.6.5"
  }
 },
 "nbformat": 4,
 "nbformat_minor": 2
}
