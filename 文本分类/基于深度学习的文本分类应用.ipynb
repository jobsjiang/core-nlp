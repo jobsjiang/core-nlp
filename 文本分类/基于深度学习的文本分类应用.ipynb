{
 "cells": [
  {
   "cell_type": "markdown",
   "metadata": {},
   "source": [
    "https://mp.weixin.qq.com/s?__biz=MzIyNjM2MzQyNg==&mid=2247526819&idx=2&sn=3b57baa6ca1469b69a3314acb5b8fba7&chksm=e873b8eedf0431f8454acb68b832b420b9179afc97169ac49505c80fa6e4b653011b31fc64cc&scene=126&sessionid=1597113958&key=e5059de1c2a6cb5457319eb7b6f744b76c767e84adbe4215701e210aaa6d692fa8ab4e872f63e30d1bda2cf069f3eb89358fce24987b9ead02bb1bb91f6742967e63ba25d2ff6544048e2d6297e665ab&ascene=1&uin=MjA1MjAyODkxNg%3D%3D&devicetype=Windows+10+x64&version=62090529&lang=zh_CN&exportkey=AYxpsGqmyt6kGwL9r3cks8o%3D&pass_ticket=oL991qQ%2BPwxN01wWri%2BnFsf7WjTdsbC%2B75hYZfxsEq%2Bt6QZQKOpvnN2XEKQ9fuFi"
   ]
  },
  {
   "cell_type": "code",
   "execution_count": null,
   "metadata": {},
   "outputs": [],
   "source": []
  }
 ],
 "metadata": {
  "kernelspec": {
   "display_name": "Python [conda env:root]",
   "language": "python",
   "name": "conda-root-py"
  },
  "language_info": {
   "codemirror_mode": {
    "name": "ipython",
    "version": 3
   },
   "file_extension": ".py",
   "mimetype": "text/x-python",
   "name": "python",
   "nbconvert_exporter": "python",
   "pygments_lexer": "ipython3",
   "version": "3.6.5"
  },
  "toc": {
   "base_numbering": 1,
   "nav_menu": {},
   "number_sections": true,
   "sideBar": true,
   "skip_h1_title": false,
   "title_cell": "Table of Contents",
   "title_sidebar": "Contents",
   "toc_cell": false,
   "toc_position": {},
   "toc_section_display": true,
   "toc_window_display": false
  }
 },
 "nbformat": 4,
 "nbformat_minor": 2
}
