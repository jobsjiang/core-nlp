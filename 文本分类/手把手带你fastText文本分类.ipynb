{
 "cells": [
  {
   "cell_type": "markdown",
   "metadata": {},
   "source": [
    "https://mp.weixin.qq.com/s?__biz=MjM5ODkzMzMwMQ==&mid=2650412541&idx=3&sn=a8a4d2b2819e9e68de10ab1155c27e65&chksm=becd93a789ba1ab19def6c7f00fe24de047aca13f65528f69368d5cb566f0a4c0378810c9f56&scene=126&sessionid=1583215294&key=26c378d410f2b0d4ed8ce44059acd898fbde920ff2be09f0a791a7aa39571a8e8c25ba472b43c9bc9fb1f8fc8a2820a1dd5185f7ae8ccc1a19f71562896889941f07d4c98d0f977d9b79e0704bb91b8b&ascene=1&uin=MjA1MjAyODkxNg%3D%3D&devicetype=Windows+10&version=62080079&lang=zh_CN&exportkey=AcCnCYsnn99kono8Y5CWhTA%3D&pass_ticket=XhLJdQKjjJjN2VZTdw3Vmo7VFeSYtaiXiMW%2FHHrYVt4hnqwiS9RFNBZLbc%2FDlEiX"
   ]
  },
  {
   "cell_type": "code",
   "execution_count": null,
   "metadata": {},
   "outputs": [],
   "source": []
  }
 ],
 "metadata": {
  "kernelspec": {
   "display_name": "Python [conda env:root] *",
   "language": "python",
   "name": "conda-root-py"
  },
  "language_info": {
   "codemirror_mode": {
    "name": "ipython",
    "version": 3
   },
   "file_extension": ".py",
   "mimetype": "text/x-python",
   "name": "python",
   "nbconvert_exporter": "python",
   "pygments_lexer": "ipython3",
   "version": "3.6.5"
  }
 },
 "nbformat": 4,
 "nbformat_minor": 4
}
