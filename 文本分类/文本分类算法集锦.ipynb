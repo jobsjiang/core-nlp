{
 "cells": [
  {
   "cell_type": "markdown",
   "metadata": {},
   "source": [
    "https://mp.weixin.qq.com/s/UFiZsPfXwg8lQUsGXcgHjA"
   ]
  },
  {
   "cell_type": "code",
   "execution_count": 1,
   "metadata": {},
   "outputs": [
    {
     "name": "stderr",
     "output_type": "stream",
     "text": [
      "C:\\Users\\jianghaitao1\\AppData\\Local\\Continuum\\anaconda3\\lib\\site-packages\\numpy\\_distributor_init.py:32: UserWarning: loaded more than 1 DLL from .libs:\n",
      "C:\\Users\\jianghaitao1\\AppData\\Local\\Continuum\\anaconda3\\lib\\site-packages\\numpy\\.libs\\libopenblas.IPBC74C7KURV7CB2PKT5Z5FNR3SIBV4J.gfortran-win_amd64.dll\n",
      "C:\\Users\\jianghaitao1\\AppData\\Local\\Continuum\\anaconda3\\lib\\site-packages\\numpy\\.libs\\libopenblas.NOIJJG62EMASZI6NYURL6JBKM4EVBGM7.gfortran-win_amd64.dll\n",
      "C:\\Users\\jianghaitao1\\AppData\\Local\\Continuum\\anaconda3\\lib\\site-packages\\numpy\\.libs\\libopenblas.txa6yqsd3gcqqc22geq54j2udcxdxhwn.gfortran-win_amd64.dll\n",
      "  stacklevel=1)\n",
      "Using TensorFlow backend.\n",
      "C:\\Users\\jianghaitao1\\AppData\\Local\\Continuum\\anaconda3\\lib\\site-packages\\tensorflow\\python\\framework\\dtypes.py:523: FutureWarning: Passing (type, 1) or '1type' as a synonym of type is deprecated; in a future version of numpy, it will be understood as (type, (1,)) / '(1,)type'.\n",
      "  _np_qint8 = np.dtype([(\"qint8\", np.int8, 1)])\n",
      "C:\\Users\\jianghaitao1\\AppData\\Local\\Continuum\\anaconda3\\lib\\site-packages\\tensorflow\\python\\framework\\dtypes.py:524: FutureWarning: Passing (type, 1) or '1type' as a synonym of type is deprecated; in a future version of numpy, it will be understood as (type, (1,)) / '(1,)type'.\n",
      "  _np_quint8 = np.dtype([(\"quint8\", np.uint8, 1)])\n",
      "C:\\Users\\jianghaitao1\\AppData\\Local\\Continuum\\anaconda3\\lib\\site-packages\\tensorflow\\python\\framework\\dtypes.py:525: FutureWarning: Passing (type, 1) or '1type' as a synonym of type is deprecated; in a future version of numpy, it will be understood as (type, (1,)) / '(1,)type'.\n",
      "  _np_qint16 = np.dtype([(\"qint16\", np.int16, 1)])\n",
      "C:\\Users\\jianghaitao1\\AppData\\Local\\Continuum\\anaconda3\\lib\\site-packages\\tensorflow\\python\\framework\\dtypes.py:526: FutureWarning: Passing (type, 1) or '1type' as a synonym of type is deprecated; in a future version of numpy, it will be understood as (type, (1,)) / '(1,)type'.\n",
      "  _np_quint16 = np.dtype([(\"quint16\", np.uint16, 1)])\n",
      "C:\\Users\\jianghaitao1\\AppData\\Local\\Continuum\\anaconda3\\lib\\site-packages\\tensorflow\\python\\framework\\dtypes.py:527: FutureWarning: Passing (type, 1) or '1type' as a synonym of type is deprecated; in a future version of numpy, it will be understood as (type, (1,)) / '(1,)type'.\n",
      "  _np_qint32 = np.dtype([(\"qint32\", np.int32, 1)])\n",
      "C:\\Users\\jianghaitao1\\AppData\\Local\\Continuum\\anaconda3\\lib\\site-packages\\tensorflow\\python\\framework\\dtypes.py:532: FutureWarning: Passing (type, 1) or '1type' as a synonym of type is deprecated; in a future version of numpy, it will be understood as (type, (1,)) / '(1,)type'.\n",
      "  np_resource = np.dtype([(\"resource\", np.ubyte, 1)])\n"
     ]
    }
   ],
   "source": [
    "import pandas as pd\n",
    "import numpy as np\n",
    "import xgboost as xgb\n",
    "from tqdm import tqdm\n",
    "from sklearn.svm import SVC\n",
    "from keras.models import Sequential\n",
    "from keras.layers.recurrent import LSTM, GRU\n",
    "from keras.layers.core import Dense, Activation, Dropout\n",
    "from keras.layers.embeddings import Embedding\n",
    "from keras.layers.normalization import BatchNormalization\n",
    "from keras.utils import np_utils\n",
    "from sklearn import preprocessing, decomposition, model_selection, metrics, pipeline\n",
    "from sklearn.model_selection import GridSearchCV\n",
    "from sklearn.feature_extraction.text import TfidfVectorizer, CountVectorizer\n",
    "from sklearn.decomposition import TruncatedSVD\n",
    "from sklearn.linear_model import LogisticRegression\n",
    "from sklearn.model_selection import train_test_split\n",
    "from sklearn.naive_bayes import MultinomialNB\n",
    "from keras.layers import GlobalMaxPooling1D, Conv1D, MaxPooling1D, Flatten, Bidirectional, SpatialDropout1D\n",
    "from keras.preprocessing import sequence, text\n",
    "from keras.callbacks import EarlyStopping\n",
    "from nltk import word_tokenize"
   ]
  },
  {
   "cell_type": "code",
   "execution_count": 3,
   "metadata": {},
   "outputs": [
    {
     "data": {
      "text/html": [
       "<div>\n",
       "<style scoped>\n",
       "    .dataframe tbody tr th:only-of-type {\n",
       "        vertical-align: middle;\n",
       "    }\n",
       "\n",
       "    .dataframe tbody tr th {\n",
       "        vertical-align: top;\n",
       "    }\n",
       "\n",
       "    .dataframe thead th {\n",
       "        text-align: right;\n",
       "    }\n",
       "</style>\n",
       "<table border=\"1\" class=\"dataframe\">\n",
       "  <thead>\n",
       "    <tr style=\"text-align: right;\">\n",
       "      <th></th>\n",
       "      <th>分类</th>\n",
       "      <th>正文</th>\n",
       "    </tr>\n",
       "  </thead>\n",
       "  <tbody>\n",
       "    <tr>\n",
       "      <th>0</th>\n",
       "      <td>艺术</td>\n",
       "      <td>﻿【 文献号 】1-2432\\n【原文出处】出版发行研究\\n【原刊地名】京\\n【原刊期号】1...</td>\n",
       "    </tr>\n",
       "    <tr>\n",
       "      <th>1</th>\n",
       "      <td>艺术</td>\n",
       "      <td>﻿【 文献号 】1-2435\\n【原文出处】扬州师院学报：社科版\\n【原刊期号】199504...</td>\n",
       "    </tr>\n",
       "    <tr>\n",
       "      <th>2</th>\n",
       "      <td>艺术</td>\n",
       "      <td>﻿【 文献号 】1-2785\\n【原文出处】南通师专学报：社科版\\n【原刊期号】199503...</td>\n",
       "    </tr>\n",
       "    <tr>\n",
       "      <th>3</th>\n",
       "      <td>艺术</td>\n",
       "      <td>﻿【 文献号 】1-3021\\n【原文出处】社会科学战线\\n【原刊地名】长春\\n【原刊期号】...</td>\n",
       "    </tr>\n",
       "    <tr>\n",
       "      <th>4</th>\n",
       "      <td>艺术</td>\n",
       "      <td>﻿【 文献号 】1-3062\\n【原文出处】上海文化\\n【原刊期号】199505\\n【原刊页...</td>\n",
       "    </tr>\n",
       "  </tbody>\n",
       "</table>\n",
       "</div>"
      ],
      "text/plain": [
       "   分类                                                 正文\n",
       "0  艺术  ﻿【 文献号 】1-2432\\n【原文出处】出版发行研究\\n【原刊地名】京\\n【原刊期号】1...\n",
       "1  艺术  ﻿【 文献号 】1-2435\\n【原文出处】扬州师院学报：社科版\\n【原刊期号】199504...\n",
       "2  艺术  ﻿【 文献号 】1-2785\\n【原文出处】南通师专学报：社科版\\n【原刊期号】199503...\n",
       "3  艺术  ﻿【 文献号 】1-3021\\n【原文出处】社会科学战线\\n【原刊地名】长春\\n【原刊期号】...\n",
       "4  艺术  ﻿【 文献号 】1-3062\\n【原文出处】上海文化\\n【原刊期号】199505\\n【原刊页..."
      ]
     },
     "execution_count": 3,
     "metadata": {},
     "output_type": "execute_result"
    }
   ],
   "source": [
    "data = pd.read_excel('../../dataset/复旦大学中文文本分类语料.xlsx','sheet1')\n",
    "data.head()"
   ]
  },
  {
   "cell_type": "code",
   "execution_count": 4,
   "metadata": {},
   "outputs": [
    {
     "name": "stdout",
     "output_type": "stream",
     "text": [
      "<class 'pandas.core.frame.DataFrame'>\n",
      "RangeIndex: 9249 entries, 0 to 9248\n",
      "Data columns (total 2 columns):\n",
      " #   Column  Non-Null Count  Dtype \n",
      "---  ------  --------------  ----- \n",
      " 0   分类      9249 non-null   object\n",
      " 1   正文      9249 non-null   object\n",
      "dtypes: object(2)\n",
      "memory usage: 144.6+ KB\n"
     ]
    }
   ],
   "source": [
    "data.info()"
   ]
  },
  {
   "cell_type": "code",
   "execution_count": 5,
   "metadata": {},
   "outputs": [
    {
     "data": {
      "text/plain": [
       "'\\ufeff【 文献号 】1-2432\\n【原文出处】出版发行研究\\n【原刊地名】京\\n【原刊期号】199601\\n【原刊页号】40-41\\n【分 类 号】Z1\\n【分 类 名】出版工作、图书评介\\n【 作者 】王益\\n【复印期号】199604\\n【 标题 】美国出版社怎样经营管理？——介绍《图书出版的艺术和科学》\\n【 正文 】\\n美国出版的有关图书出版的专业书籍，概论性的有好几本，专讲经营管理的并不多，《图书出版的艺术和科学》（The Art andScienceo\\nf Book Pblishing）是经常被人推荐的一本。作者小赫伯特·S·贝利（Herbert·S·Bailey,Jr.），在大学文学系毕业之后，1946年进入普林\\n斯顿大学出版社当了8年编辑，1954年出任该出版社社长， 直至1986年退休，从事出版工作共40年。1970年，他写了这本书，1980年再版，199\\n0年三版。这本书，广泛地被大学采用作出版课程教材，也被出版社工作人员选作参考读物。从1970年至1990年，时隔20年，他认为他所阐述的\\n基本原则仍是正确的，因而出版时基本上没有修改。这本书是作者长期实践经验的总结，他也从管理科学和财会科学书籍中吸取了营养，并听取\\n了其他出版家的意见，它是写给出版社的社长们读的，也是写给出版社所有的工作人员读的。有关出版工作的方方面面，它都涉及到了。他对各\\n项工作的甜酸苦辣好像都有切身的体会，他了解其中的主要矛盾和麻烦，并对如何解决这些问题提出了很好的建议。他看问题全面、客观，立论\\n公正，处处迸发出智慧的火花。凡读过这本书的人，都会感到得益。美国《出版商周刊》曾在书评中把它誉为“出版业经营管理方面不可缺少的\\n有说服力的研究著作”。\\n本书从论述出版工作中的理性和非理性开始，作者认为，出版社的经营管理者是一个有理性的人，在理性的环境中与有理性的人们一道工作\\n，追求可能是复杂的但至少可以明确表示的目标，而整个出版活动，又沉浸在非理性的大海中。经营管理必须把非理性因素也考虑进去，而不能\\n企图将其纳入既定秩序的框架之内，对非理性因素，要在内部和外部和它生活、工作在一起，参与进去，并且试图理解它，甚至促进它、鼓励它\\n、批评它，把它和出版社的健康现象联系起来。作者认为，非理性也是一种重要的动力，许多培育出版业成长壮大的创造力来自非理性，来自作\\n者的下意识思想的活动和要求；我们称之为市场的读者群同样也被他们特有的下意识的思想和要求所驱动。这些观点，对我们来说，非常陌生，\\n但可以姑妄听之，以便开阔我们的思路。作者在随后部分中论及的出版工作中的一些原则问题，例如出版的文化功能和企业经营的关系，出版业\\n与其他行业的异同，盈利性出版社与非盈利出版社的区别，社会效益与经济效益的关系，质量与数量的关系，出版社与作者的关系，出版社中领\\n导与被领导的关系，出版社中部门与部门之间的沟通与协作等，其观点倒是我们很熟悉而且容易理解的；甚至有些观点与我们的看法是相似的。\\n出版社的经营管理相当复杂，既有生产，又有销售，既有精神生产，又有物质生产，而且精神生产还是主要的。要熟悉出版社的全盘业务很\\n不容易，但作者做到了这一点。他出身于编辑，认为编辑工作也在经营管理的范围之内，但在本书中，他对编辑工作却着墨不多。他强调编辑工\\n作的重要性，认为出版史是出版了杰出的书的杰出出版社的历史；出版社所以出名，是因为出版了杰出的著作，而不是由于经营技巧的高明，当\\n然他并不忽视经营管理的重要性，本书毕竟绝大部分篇幅是谈生产、销售、人事、财务等方面的事情。\\n作者精通出版社的所有各项业务，并不是洞察出版社所有各项业务的细节，而是对各项业务都有深刻的了解，能够进行十分精辟的分析。他\\n注意出书的系统，认为出版社的全部出版物应该实际上是一套或若干套丛书。出书要十分注意质量。质量第一，但并非质量是唯一。有些书即使\\n是能赚钱的好书，但如果不符合出版社出书的兴趣、品位和专业范围，也不应该出版，以免有损于出版社的形象。编辑要时刻想到是为作者出书\\n而不是为自己出书。编辑在作者面前代表出版社但要注意到自己不是出版社的老板。美术设计必须在经济实用的约束下去发掘美的特性，一本精\\n美图书的特性就在于它能体现书的主题和作者的意向。设计人是应该懂得图书不过是他设计的一个对象，书是给读者阅读的，读者的主要兴趣在\\n书的内容。生产部（我们一般称为出版部）主要职责在于恰当处理质量、进度、成本三个相互冲突的目标，他们只提好、快、省，不提多、快、\\n好、省。他们认为追逐品种多，必然会降低质量，出版社不论大小，都要编制出版日程表，设专人监督出版工作的进度。许多出版社的重印周期\\n是两年或两年以内，一般不会生产超过三年以上的供应量，专业书和学术著作出版社不在此例，必须高一些。每个出版社都应结合自己的特点，\\n建立自己的发行渠道。销售量的变化，与推销工作的关系很密切，每达到一个新的销售水平，必须支出相应的推销费用。推销工作达到一定程度\\n，应考虑支出的推销费用能否达到增加销货的目的。定价是由市场决定的，参考市场情况由出版社规定定价，定价与成本有一定联系，但在市场\\n经济条件下，不存在简单的根据成本规定定价的公式。定价高也能卖掉一定数量的书，取得一定的利润；降低定价，到一定程度，也会饱和，未\\n必能卖掉更多的书，甚至还会遭致亏损。出版社是盈是亏，应该是可以计算的，并有客观标准的，但也可以有主观成分。盈亏决定于资产和负债\\n，但某些资产的实际价值是估计的。决算表所反映的情况，不一定真实，可能是虚亏实盈，也可能虚盈实亏。出版社要注意现金流通，经常在手\\n头掌握一定的现金，否则即使是赚钱的出版社，如果周转不灵，也会带来极大的麻烦，但手头积攒太多的现金又是不智的。\\n本书提供了五种不同类型的出版社的典型的损益表，用百分比说明了成本、各种经营费用、毛利、税负、纯利润等之间的比例关系，还开列\\n了一本具体的书的经营计划表，用金额说明了实际经营情况，使我们获得了明确而清晰的信息，用来与我们的经营情况进行对比，是非常有价值\\n的。书中提出了5 个评估出版社财务情况是否健康的比率（流动资产：流动负债，速兑资产：短期债务，年净销售额：库存额，周转资本：库存\\n额，年净销售额：应收帐款额），作为最低限度要求的指标或危险信号，也极有参考价值，本书附录的20多种报表，介绍了一个管理健全的出版\\n社，应该有哪些在部门与部门之间沟通信息的工具，很有用。\\n本书用了相当大的篇幅（约1/5），用了许多公式、方程式、 图表，试图科学地解决最佳印数和最佳定价这两个重要而棘手的问题。但只能\\n说是一次有益的尝试，是一项有意义的研究成果，其实用价值还是有限的。书中开出的公式以年销售率（第一年销售多少册，以后每年能各销售\\n多少册）为基础，销售率只能估计而不能计算出来（教科书和某些有明确对象的专业用书或学习用书例外），而估计很难准确，因为需求充满不\\n确定因素。这部分技术性很强，对于方程式和图解法不熟悉的读者来说，要读懂它有一定困难，如果翻译不准确且排印有错误则更为困难。实在\\n读不懂的话，可以略去不读，或者只注意作者提出的一些结论性的意见，了解各种因素之间的关系就行了。否则花费了大量时间，而得不到实际\\n效果。对我国出版社来讲，当务之急是建立销售记录（最好利用计算机），掌握各类图书历年的销售情况。这是科学管理必不可少的工具，有了\\n它，才谈得上研究最佳印数和最佳定价。\\n本书第五章最后一节《新技术的影响》和《新技术》，描绘了电子计算机技术高度发展和广泛应用后的出版业的景象。设想分两步走。第一\\n步，出版社利用质量好效率高的自动复印机印书，一次即使印一册也合算，使出版社不以按订单印书（按需生产）。今天收订单，明天就发货。\\n没有存货，也用不着计算最佳印数。没有积压，也不会脱销，因而也没有风险，这是很理想的。第二步，到那时，高产高效而价钱又便宜的家用\\n电传复印机已像电视机那样普及，读者足不出户，在家中按一下电钮，就可以买到所需要的书，像现在不必去电影院在家中就可以看电影一样。\\n出书难、买书难、卖书难的问题彻底解决了。作者预言25年后可能出现这种情况，现已到期，实际上并未实现。现在的情况仍和25年以前一样，\\n有些读者不愿购买某些学术杂志和专题论文集了，因为到图书馆去复印他所需要的文章要便宜得多。书中的这一部分还是饶有兴趣的，读者如果\\n急于了解详细内容，不妨倒过来读，从最后一章读起。\\n（本文作者单位：新闻出版署）\\n（本文责编：文依）＊\\n\\n\\n\\n \\n'"
      ]
     },
     "execution_count": 5,
     "metadata": {},
     "output_type": "execute_result"
    }
   ],
   "source": [
    "data.iloc[0,1]"
   ]
  },
  {
   "cell_type": "code",
   "execution_count": 6,
   "metadata": {},
   "outputs": [
    {
     "name": "stderr",
     "output_type": "stream",
     "text": [
      "Building prefix dict from the default dictionary ...\n",
      "Loading model from cache C:\\Users\\JIANGH~1\\AppData\\Local\\Temp\\jieba.cache\n",
      "Loading model cost 0.583 seconds.\n",
      "Prefix dict has been built succesfully.\n"
     ]
    }
   ],
   "source": [
    "import jieba\n",
    "# jieba.enable_parallel(4) # 并行分词开启\n",
    "data['文本分词'] = data['正文'].apply(lambda i:jieba.cut(i) )\n",
    "data['文本分词'] =[' '.join(i) for i in data['文本分词']]"
   ]
  },
  {
   "cell_type": "code",
   "execution_count": 10,
   "metadata": {},
   "outputs": [],
   "source": [
    "pd.set_option('display.max_columns',10000)\n",
    "pd.set_option('display.width',100000)\n",
    "pd.set_option('display.max_rows',10000)\n",
    "pd.set_option('max_colwidth',10000)"
   ]
  },
  {
   "cell_type": "code",
   "execution_count": 11,
   "metadata": {},
   "outputs": [
    {
     "data": {
      "text/plain": [
       "0    ﻿ 【   文献号   】 1 - 2432 \\n 【 原文 出处 】 出版发行 研究 \\n 【 原刊 地名 】 京 \\n 【 原刊 期号 】 199601 \\n 【 原刊 页 号 】 40 - 41 \\n 【 分   类   号 】 Z1 \\n 【 分   类   名 】 出版 工作 、 图书 评介 \\n 【   作者   】 王益 \\n 【 复印 期号 】 199604 \\n 【   标题   】 美国 出版社 怎样 经营 管理 ？ — — 介绍 《 图书 出版 的 艺术 和 科学 》 \\n 【   正文   】 \\n 美国 出版 的 有关 图书 出版 的 专业书籍 ， 概论 性 的 有 好几本 ， 专讲 经营 管理 的 并不多 ， 《 图书 出版 的 艺术 和 科学 》 （ The   Art   andScienceo \\n f   Book   Pblishing ） 是 经常 被 人 推荐 的 一本 。 作者 小 赫伯特 · S · 贝利 （ Herbert · S · Bailey , Jr . ） ， 在 大学 文学系 毕业 之后 ， 1946 年 进入 普林 \\n 斯顿 大学 出版社 当 了 8 年 编辑 ， 1954 年 出任 该 出版社 社长 ，   直至 1986 年 退休 ， 从事 出版 工作 共 40 年 。 1970 年 ， 他 写 了 这 本书 ， 1980 年 再版 ， 199 \\n 0 年三版 。 这 本书 ， 广泛 地被 大学 采用 作 出版 课程 教材 ， 也 被 出版社 工作人员 选作 参考 读物 。 从 1970 年 至 1990 年 ， 时隔 20 年 ， 他 认为 他 所 阐述 的 \\n 基本 原则 仍 是 正确 的 ， 因而 出版 时 基本上 没有 修改 。 这 本书 是 作者 长期实践 经验 的 总结 ， 他 也 从 管理科学 和 财会 科学 书籍 中 吸取 了 营养 ， 并 听取 \\n 了 其他 出版家 的 意见 ， 它 是 写给 出版社 的 社长 们 读 的 ， 也 是 写给 出版社 所有 的 工作人员 读 的 。 有关 出版 工作 的 方方面面 ， 它 都 涉及 到 了 。 他 对 各 \\n 项 工作 的 甜酸苦辣 好像 都 有 切身 的 体会 ， 他 了解 其中 的 主要矛盾 和 麻烦 ， 并 对 如何 解决 这些 问题 提出 了 很 好 的 建议 。 他 看 问题 全面 、 客观 ， 立论 \\n 公正 ， 处处 迸发出 智慧 的 火花 。 凡读 过 这 本书 的 人 ， 都 会 感到 得益 。 美国 《 出版商 周刊 》 曾 在 书评 中 把 它 誉为 “ 出版业 经营 管理 方面 不可 缺少 的 \\n 有 说服力 的 研究 著作 ” 。 \\n 本书 从 论述 出版 工作 中 的 理性 和 非理性 开始 ， 作者 认为 ， 出版社 的 经营管理者 是 一个 有 理性 的 人 ， 在 理性 的 环境 中 与 有 理性 的 人们 一道 工作 \\n ， 追求 可能 是 复杂 的 但 至少 可以 明确 表示 的 目标 ， 而 整个 出版 活动 ， 又 沉浸 在 非理性 的 大海 中 。 经营 管理 必须 把 非理性 因素 也 考虑 进去 ， 而 不能 \\n 企图 将 其 纳入 既定 秩序 的 框架 之内 ， 对 非理性 因素 ， 要 在 内部 和 外部 和 它 生活 、 工作 在 一起 ， 参与 进去 ， 并且 试图 理解 它 ， 甚至 促进 它 、 鼓励 它 \\n 、 批评 它 ， 把 它 和 出版社 的 健康 现象 联系 起来 。 作者 认为 ， 非理性 也 是 一种 重要 的 动力 ， 许多 培育 出版业 成长 壮大 的 创造力 来自 非理性 ， 来自 作 \\n 者 的 下意识 思想 的 活动 和 要求 ； 我们 称之为 市场 的 读者群 同样 也 被 他们 特有 的 下意识 的 思想 和 要求 所 驱动 。 这些 观点 ， 对 我们 来说 ， 非常 陌生 ， \\n 但 可以 姑妄听之 ， 以便 开阔 我们 的 思路 。 作者 在 随后 部分 中 论及 的 出版 工作 中 的 一些 原则 问题 ， 例如 出版 的 文化 功能 和 企业 经营 的 关系 ， 出版业 \\n 与 其他 行业 的 异同 ， 盈利性 出版社 与 非盈利 出版社 的 区别 ， 社会效益 与 经济效益 的 关系 ， 质量 与 数量 的 关系 ， 出版社 与 作者 的 关系 ， 出版社 中领 \\n 导与 被 领导 的 关系 ， 出版社 中 部门 与 部门 之间 的 沟通 与 协作 等 ， 其 观点 倒 是 我们 很 熟悉 而且 容易 理解 的 ； 甚至 有些 观点 与 我们 的 看法 是 相似 的 。 \\n 出版社 的 经营 管理 相当 复杂 ， 既有 生产 ， 又 有 销售 ， 既有 精神 生产 ， 又 有 物质 生产 ， 而且 精神 生产 还是 主要 的 。 要 熟悉 出版社 的 全盘 业务 很 \\n 不 容易 ， 但 作者 做到 了 这 一点 。 他 出身 于 编辑 ， 认为 编辑 工作 也 在 经营 管理 的 范围 之内 ， 但 在 本书 中 ， 他 对 编辑 工作 却 着墨 不 多 。 他 强调 编辑 工 \\n 作 的 重要性 ， 认为 出版 史是 出版 了 杰出 的 书 的 杰出 出版社 的 历史 ； 出版社 所以 出名 ， 是因为 出版 了 杰出 的 著作 ， 而 不是 由于 经营 技巧 的 高明 ， 当 \\n 然他 并 不 忽视 经营 管理 的 重要性 ， 本书 毕竟 绝大部分 篇幅 是 谈 生产 、 销售 、 人事 、 财务 等 方面 的 事情 。 \\n 作者 精通 出版社 的 所有 各项 业务 ， 并 不是 洞察 出版社 所有 各项 业务 的 细节 ， 而是 对 各项 业务 都 有 深刻 的 了解 ， 能够 进行 十分 精辟 的 分析 。 他 \\n 注意 出书 的 系统 ， 认为 出版社 的 全部 出版物 应该 实际上 是 一套 或 若干套 丛书 。 出书 要 十分注意 质量 。 质量第一 ， 但 并非 质量 是 唯一 。 有些 书 即使 \\n 是 能 赚钱 的 好书 ， 但 如果 不 符合 出版社 出书 的 兴趣 、 品位 和 专业 范围 ， 也 不 应该 出版 ， 以免 有损于 出版社 的 形象 。 编辑 要 时刻 想到 是 为 作者 出书 \\n 而 不是 为 自己 出书 。 编辑 在 作者 面前 代表 出版社 但 要 注意 到 自己 不是 出版社 的 老板 。 美术设计 必须 在 经济实用 的 约束 下去 发掘 美的 特性 ， 一本 精 \\n 美 图书 的 特性 就 在于 它 能 体现 书 的 主题 和 作者 的 意向 。 设计 人 是 应该 懂得 图书 不过 是 他 设计 的 一个 对象 ， 书 是 给 读者 阅读 的 ， 读者 的 主要 兴趣 在 \\n 书 的 内容 。 生产 部 （ 我们 一般 称为 出版部 ） 主要职责 在于 恰当 处理 质量 、 进度 、 成本 三个 相互 冲突 的 目标 ， 他们 只 提好 、 快 、 省 ， 不 提多 、 快 、 \\n 好 、 省 。 他们 认为 追逐 品种 多 ， 必然 会 降低 质量 ， 出版社 不论 大小 ， 都 要 编制 出版 日程表 ， 设 专人 监督 出版 工作 的 进度 。 许多 出版社 的 重印 周期 \\n 是 两年 或 两年 以内 ， 一般 不会 生产 超过 三年 以上 的 供应量 ， 专业书 和 学术著作 出版社 不 在 此例 ， 必须 高 一些 。 每个 出版社 都 应 结合 自己 的 特点 ， \\n 建立 自己 的 发行 渠道 。 销售量 的 变化 ， 与 推销 工作 的 关系 很 密切 ， 每 达到 一个 新 的 销售 水平 ， 必须 支出 相应 的 推销 费用 。 推销 工作 达到 一定 程度 \\n ， 应 考虑 支出 的 推销 费用 能否 达到 增加 销货 的 目的 。 定价 是 由 市场 决定 的 ， 参考 市场 情况 由 出版社 规定 定价 ， 定价 与 成本 有 一定 联系 ， 但 在 市场 \\n 经济 条件 下 ， 不 存在 简单 的 根据 成本 规定 定价 的 公式 。 定价 高 也 能 卖掉 一定 数量 的 书 ， 取得 一定 的 利润 ； 降低 定价 ， 到 一定 程度 ， 也 会 饱和 ， 未 \\n 必 能 卖掉 更 多 的 书 ， 甚至 还会 遭致 亏损 。 出版社 是 盈是 亏 ， 应该 是 可以 计算 的 ， 并 有 客观 标准 的 ， 但 也 可以 有 主观 成分 。 盈亏 决定 于 资产 和 负债 \\n ， 但 某些 资产 的 实际 价值 是 估计 的 。 决算表 所 反映 的 情况 ， 不 一定 真实 ， 可能 是 虚亏 实盈 ， 也 可能 虚盈实亏 。 出版社 要 注意 现金 流通 ， 经常 在手 \\n 头 掌握 一定 的 现金 ， 否则 即使 是 赚钱 的 出版社 ， 如果 周转不灵 ， 也 会 带来 极大 的 麻烦 ， 但 手头 积攒 太多 的 现金 又 是 不智 的 。 \\n 本书 提供 了 五种 不同 类型 的 出版社 的 典型 的 损益表 ， 用 百分比 说明 了 成本 、 各种 经营 费用 、 毛利 、 税负 、 纯利润 等 之间 的 比例 关系 ， 还 开列 \\n 了 一本 具体 的 书 的 经营 计划表 ， 用 金额 说明 了 实际 经营 情况 ， 使 我们 获得 了 明确 而 清晰 的 信息 ， 用来 与 我们 的 经营 情况 进行 对比 ， 是 非常 有 价值 \\n 的 。 书中 提出 了 5   个 评估 出版社 财务 情况 是否 健康 的 比率 （ 流动资产 ： 流动 负债 ， 速兑 资产 ： 短期 债务 ， 年净 销售额 ： 库存 额 ， 周转 资本 ： 库存 \\n 额 ， 年净 销售额 ： 应收 帐 款额 ） ， 作为 最低 限度 要求 的 指标 或 危险 信号 ， 也 极 有 参考价值 ， 本书 附录 的 20 多种 报表 ， 介绍 了 一个 管理 健全 的 出版 \\n 社 ， 应该 有 哪些 在 部门 与 部门 之间 沟通 信息 的 工具 ， 很 有用 。 \\n 本书 用 了 相当 大 的 篇幅 （ 约 1 / 5 ） ， 用 了 许多 公式 、 方程式 、   图表 ， 试图 科学 地 解决 最佳 印数 和 最佳 定价 这 两个 重要 而 棘手 的 问题 。 但 只能 \\n 说 是 一次 有益 的 尝试 ， 是 一项 有 意义 的 研究成果 ， 其实 用 价值 还是 有限 的 。 书中 开出 的 公式 以年 销售 率 （ 第一年 销售 多少 册 ， 以后 每年 能 各 销售 \\n 多少 册 ） 为 基础 ， 销售 率 只能 估计 而 不能 计算出来 （ 教科书 和 某些 有 明确 对象 的 专业 用书 或 学习 用书 例外 ） ， 而 估计 很难 准确 ， 因为 需求 充满 不 \\n 确定 因素 。 这部分 技术性 很强 ， 对于 方程式 和 图解法 不 熟悉 的 读者 来说 ， 要 读懂 它 有 一定 困难 ， 如果 翻译 不 准确 且 排印 有 错误 则 更为 困难 。 实在 \\n 读 不 懂 的话 ， 可以 略去 不 读 ， 或者 只 注意 作者 提出 的 一些 结论性 的 意见 ， 了解 各种因素 之间 的 关系 就行了 。 否则 花费 了 大量 时间 ， 而 得不到 实际 \\n 效果 。 对 我国 出版社 来讲 ， 当务之急 是 建立 销售 记录 （ 最好 利用计算机 ） ， 掌握 各类 图书 历年 的 销售 情况 。 这是 科学管理 必不可少 的 工具 ， 有 了 \\n 它 ， 才 谈得上 研究 最佳 印数 和 最佳 定价 。 \\n 本书 第五章 最后 一节 《 新 技术 的 影响 》 和 《 新 技术 》 ， 描绘 了 电子计算机 技术 高度 发展 和 广泛应用 后 的 出版业 的 景象 。 设想 分 两步走 。 第一 \\n 步 ， 出版社 利用 质量 好 效率高 的 自动 复印机 印书 ， 一次 即使 印 一册 也 合算 ， 使 出版社 不以 按 订单 印书 （ 按 需 生产 ） 。 今天 收 订单 ， 明天 就 发货 。 \\n 没有 存货 ， 也 用不着 计算 最佳 印数 。 没有 积压 ， 也 不会 脱销 ， 因而 也 没有 风险 ， 这 是 很 理想 的 。 第二步 ， 到 那时 ， 高产 高效 而 价钱 又 便宜 的 家用 \\n 电传 复印机 已像 电视机 那样 普及 ， 读者 足不出户 ， 在 家中 按 一下 电钮 ， 就 可以 买到 所 需要 的 书 ， 像 现在 不必 去 电影院 在 家中 就可以看 电影 一样 。 \\n 出书 难 、 买书难 、 卖书 难 的 问题 彻底解决 了 。 作者 预言 25 年 后 可能 出现 这种 情况 ， 现已 到期 ， 实际上 并未 实现 。 现在 的 情况 仍 和 25 年 以前 一样 ， \\n 有些 读者 不愿 购买 某些 学术 杂志 和 专题 论文集 了 ， 因为 到 图书馆 去 复印 他 所 需要 的 文章 要 便宜 得 多 。 书中 的 这 一部分 还是 饶有兴趣 的 ， 读者 如果 \\n 急于 了解 详细 内容 ， 不妨 倒 过来 读 ， 从 最后 一章 读 起 。 \\n （ 本文 作者 单位 ： 新闻出版署 ） \\n （ 本文 责编 ： 文依 ） ＊ \\n \\n \\n \\n   \\n\n",
       "Name: 文本分词, dtype: object"
      ]
     },
     "execution_count": 11,
     "metadata": {},
     "output_type": "execute_result"
    }
   ],
   "source": [
    "data['文本分词'][0:1]"
   ]
  },
  {
   "cell_type": "code",
   "execution_count": 12,
   "metadata": {},
   "outputs": [],
   "source": [
    "def multiclass_logloss(actual,predicted,eps=1e-15):\n",
    "    if len(actual.shape) == 1:\n",
    "        actual2 = np.zeros((actual.shape[0], predicted.shape[1]))\n",
    "        for i, val in enumerate(actual):\n",
    "            actual2[i, val] = 1\n",
    "        actual = actual2\n",
    "\n",
    "    clip = np.clip(predicted, eps, 1 - eps)\n",
    "    rows = actual.shape[0]\n",
    "    vsota = np.sum(actual * np.log(clip))\n",
    "    return -1.0 / rows * vsota"
   ]
  },
  {
   "cell_type": "code",
   "execution_count": 13,
   "metadata": {},
   "outputs": [],
   "source": [
    "lbl_enc = preprocessing.LabelEncoder()\n",
    "y = lbl_enc.fit_transform(data.分类.values)"
   ]
  },
  {
   "cell_type": "code",
   "execution_count": 16,
   "metadata": {},
   "outputs": [
    {
     "name": "stdout",
     "output_type": "stream",
     "text": [
      "(8324,)\n",
      "(925,)\n"
     ]
    }
   ],
   "source": [
    "\n",
    "xtrain, xvalid, ytrain, yvalid = train_test_split(data.文本分词.values, y,\n",
    "                                                  stratify=y,\n",
    "                                                  random_state=42,\n",
    "                                                  test_size=0.1, shuffle=True)\n",
    "print (xtrain.shape)\n",
    "print (xvalid.shape)"
   ]
  },
  {
   "cell_type": "code",
   "execution_count": 25,
   "metadata": {},
   "outputs": [],
   "source": [
    "def number_normalizer(tokens):\n",
    "    \"\"\" 将所有数字标记映射为一个占位符（Placeholder）。对于许多实际应用场景来说，以数字开头的tokens不是很有用，    但这样tokens的存在也有一定相关性。通过将所有数字都表示成同一个符号，可以达到降维的目的。\"\"\"   \n",
    "    return (\"#NUMBER\" if token[0].isdigit() else token for token in tokens)\n",
    "class NumberNormalizingVectorizer(TfidfVectorizer):\n",
    "    def build_tokenizer(self):\n",
    "        tokenize = super(NumberNormalizingVectorizer,self).build_tokenizer()\n",
    "        return lambda doc:list(number_normalizer(tokenize(doc)))"
   ]
  },
  {
   "cell_type": "code",
   "execution_count": 26,
   "metadata": {},
   "outputs": [],
   "source": [
    "stwlist=[line.strip() for line in open('../../dataset/停用词库.txt',\n",
    "'r',encoding='utf-8').readlines()]\n",
    "tfv = NumberNormalizingVectorizer(min_df=3,\n",
    "                                  max_df=0.5,\n",
    "                                  max_features=None,\n",
    "                                  ngram_range=(1, 2),\n",
    "                                  use_idf=True,\n",
    "                                  smooth_idf=True,\n",
    "                                  stop_words = stwlist)"
   ]
  },
  {
   "cell_type": "code",
   "execution_count": 27,
   "metadata": {},
   "outputs": [
    {
     "name": "stderr",
     "output_type": "stream",
     "text": [
      "C:\\Users\\jianghaitao1\\AppData\\Local\\Continuum\\anaconda3\\lib\\site-packages\\sklearn\\feature_extraction\\text.py:385: UserWarning: Your stop_words may be inconsistent with your preprocessing. Tokenizing the stop words generated tokens ['#NUMBER', 'lex', 'ｌｉ', 'ｚｘｆｉｔｌ'] not in stop_words.\n",
      "  'stop_words.' % sorted(inconsistent))\n"
     ]
    }
   ],
   "source": [
    "tfv.fit(list(xtrain) + list(xvalid))\n",
    "xtrain_tfv =  tfv.transform(xtrain)\n",
    "xvalid_tfv = tfv.transform(xvalid)"
   ]
  },
  {
   "cell_type": "code",
   "execution_count": null,
   "metadata": {},
   "outputs": [],
   "source": [
    "clf = LogisticRegression(C=1.0,solver='lbfgs',multi_class='multinomial')\n",
    "clf.fit(xtrain_tfv, ytrain)\n",
    "predictions = clf.predict_proba(xvalid_tfv)\n",
    "\n",
    "print (\"logloss: %0.3f \" % multiclass_logloss(yvalid, predictions))"
   ]
  },
  {
   "cell_type": "code",
   "execution_count": null,
   "metadata": {},
   "outputs": [],
   "source": []
  }
 ],
 "metadata": {
  "kernelspec": {
   "display_name": "Python [conda env:root]",
   "language": "python",
   "name": "conda-root-py"
  },
  "language_info": {
   "codemirror_mode": {
    "name": "ipython",
    "version": 3
   },
   "file_extension": ".py",
   "mimetype": "text/x-python",
   "name": "python",
   "nbconvert_exporter": "python",
   "pygments_lexer": "ipython3",
   "version": "3.6.5"
  },
  "toc": {
   "base_numbering": 1,
   "nav_menu": {},
   "number_sections": true,
   "sideBar": true,
   "skip_h1_title": false,
   "title_cell": "Table of Contents",
   "title_sidebar": "Contents",
   "toc_cell": false,
   "toc_position": {},
   "toc_section_display": true,
   "toc_window_display": false
  }
 },
 "nbformat": 4,
 "nbformat_minor": 2
}
