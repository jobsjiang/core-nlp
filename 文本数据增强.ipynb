{
 "cells": [
  {
   "cell_type": "markdown",
   "metadata": {},
   "source": [
    "https://mp.weixin.qq.com/s/aIydEKcDYWNaczMUi07tIQ"
   ]
  },
  {
   "cell_type": "markdown",
   "metadata": {},
   "source": [
    "https://mp.weixin.qq.com/s/an1ewfO6pWyR6QmQyFv3Rw"
   ]
  },
  {
   "cell_type": "markdown",
   "metadata": {},
   "source": [
    "#### EDA Easy Data Augmentation"
   ]
  },
  {
   "cell_type": "code",
   "execution_count": null,
   "metadata": {},
   "outputs": [],
   "source": [
    "# 同义词替换（SR:Synonyms Replace）\n",
    "def synonyms_replacement(words,n):\n",
    "    new_words = words.copy()\n",
    "    random_word_list = list(set([word for word in words if word not in stop_words]))\n",
    "    random.shuffle(random_word_list)\n",
    "    num_replaced = 0\n",
    "    for random_word in random_word_list:\n",
    "        synonyms_word = get_synonyms(random_word)\n",
    "        if len(synonyms_word) >= 1:\n",
    "            synonym = random.choice(synonyms_word)\n",
    "            new_words = [synonym if word == random_word else word for word in new_words]\n",
    "            num_replaced += 1\n",
    "        if num_replaced >= n:\n",
    "            break\n",
    "    sentence = ' '.join(new_words)\n",
    "    new_words = sentence.split(' ')\n",
    "    return new_words\n",
    "\n",
    "def get_synonyms(word):\n",
    "    return synonyms.nearby(word)[0]"
   ]
  },
  {
   "cell_type": "code",
   "execution_count": null,
   "metadata": {},
   "outputs": [],
   "source": [
    "# 随机插入（RI:Randomly Insert）\n",
    "def random_swap(words, n):\n",
    "    new_words = words.copy()\n",
    "    for _ in range(n):\n",
    "        new_words = swap_word(new_words)\n",
    "    return new_words\n",
    "\n",
    "\n",
    "def swap_word(new_words):\n",
    "    random_idx_1 = random.randint(0, len(new_words) - 1)\n",
    "    random_idx_2 = random_idx_1\n",
    "    counter = 0\n",
    "    while random_idx_2 == random_idx_1:\n",
    "        random_idx_2 = random.randint(0, len(new_words) - 1)\n",
    "        counter += 1\n",
    "        if counter > 3:\n",
    "            return new_words\n",
    "    new_words[random_idx_1], new_words[random_idx_2] = new_words[random_idx_2], new_words[random_idx_1]\n",
    "    return new_words"
   ]
  },
  {
   "cell_type": "code",
   "execution_count": null,
   "metadata": {},
   "outputs": [],
   "source": [
    "# 随机交换（RS:Randomly Swap）\n",
    "   def random_swap(words, n):\n",
    "        new_words = words.copy()\n",
    "        for _ in range(n):\n",
    "            new_words = swap_word(new_words)\n",
    "        return new_words\n",
    "\n",
    "    def swap_word(new_words):\n",
    "        random_idx_1 = random.randint(0, len(new_words) - 1)\n",
    "        random_idx_2 = random_idx_1\n",
    "        counter = 0\n",
    "        while random_idx_2 == random_idx_1:\n",
    "            random_idx_2 = random.randint(0, len(new_words) - 1)\n",
    "            counter += 1\n",
    "            if counter > 3:\n",
    "                return new_words\n",
    "        new_words[random_idx_1], new_words[random_idx_2] = new_words[random_idx_2], new_words[random_idx_1]\n",
    "        return new_words"
   ]
  },
  {
   "cell_type": "code",
   "execution_count": null,
   "metadata": {},
   "outputs": [],
   "source": [
    "# 随机删除（RD:Randomly Delete）\n",
    "def random_deletion(words, p):\n",
    "        if len(words) == 1:\n",
    "            return words\n",
    "\n",
    "        new_words = []\n",
    "        for word in words:\n",
    "            r = random.uniform(0, 1)\n",
    "            if r > p:\n",
    "                new_words.append(word)\n",
    "\n",
    "        if len(new_words) == 0:\n",
    "            rand_int = random.randint(0, len(words) - 1)\n",
    "            return [words[rand_int]]\n",
    "\n",
    "        return new_words"
   ]
  }
 ],
 "metadata": {
  "kernelspec": {
   "display_name": "Python [conda env:root]",
   "language": "python",
   "name": "conda-root-py"
  },
  "language_info": {
   "codemirror_mode": {
    "name": "ipython",
    "version": 3
   },
   "file_extension": ".py",
   "mimetype": "text/x-python",
   "name": "python",
   "nbconvert_exporter": "python",
   "pygments_lexer": "ipython3",
   "version": "3.6.5"
  }
 },
 "nbformat": 4,
 "nbformat_minor": 4
}
