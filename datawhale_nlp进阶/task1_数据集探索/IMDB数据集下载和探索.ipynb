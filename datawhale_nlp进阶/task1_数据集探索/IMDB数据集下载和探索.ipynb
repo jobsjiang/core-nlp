{
 "cells": [
  {
   "cell_type": "code",
   "execution_count": 1,
   "metadata": {},
   "outputs": [],
   "source": [
    "import tensorflow as tf\n",
    "from tensorflow import keras\n",
    "import numpy as np"
   ]
  },
  {
   "cell_type": "code",
   "execution_count": 2,
   "metadata": {},
   "outputs": [
    {
     "name": "stdout",
     "output_type": "stream",
     "text": [
      "Downloading data from https://storage.googleapis.com/tensorflow/tf-keras-datasets/imdb.npz\n",
      "17465344/17464789 [==============================] - 16s 1us/step\n"
     ]
    }
   ],
   "source": [
    "# 下载IMDB数据集\n",
    "imdb = keras.datasets.imdb\n",
    "(train_data,train_labels),(test_data,test_labels) = imdb.load_data(num_words=10000)"
   ]
  },
  {
   "cell_type": "code",
   "execution_count": 4,
   "metadata": {},
   "outputs": [
    {
     "data": {
      "text/plain": [
       "array([list([1, 14, 22, 16, 43, 530, 973, 1622, 1385, 65, 458, 4468, 66, 3941, 4, 173, 36, 256, 5, 25, 100, 43, 838, 112, 50, 670, 2, 9, 35, 480, 284, 5, 150, 4, 172, 112, 167, 2, 336, 385, 39, 4, 172, 4536, 1111, 17, 546, 38, 13, 447, 4, 192, 50, 16, 6, 147, 2025, 19, 14, 22, 4, 1920, 4613, 469, 4, 22, 71, 87, 12, 16, 43, 530, 38, 76, 15, 13, 1247, 4, 22, 17, 515, 17, 12, 16, 626, 18, 2, 5, 62, 386, 12, 8, 316, 8, 106, 5, 4, 2223, 5244, 16, 480, 66, 3785, 33, 4, 130, 12, 16, 38, 619, 5, 25, 124, 51, 36, 135, 48, 25, 1415, 33, 6, 22, 12, 215, 28, 77, 52, 5, 14, 407, 16, 82, 2, 8, 4, 107, 117, 5952, 15, 256, 4, 2, 7, 3766, 5, 723, 36, 71, 43, 530, 476, 26, 400, 317, 46, 7, 4, 2, 1029, 13, 104, 88, 4, 381, 15, 297, 98, 32, 2071, 56, 26, 141, 6, 194, 7486, 18, 4, 226, 22, 21, 134, 476, 26, 480, 5, 144, 30, 5535, 18, 51, 36, 28, 224, 92, 25, 104, 4, 226, 65, 16, 38, 1334, 88, 12, 16, 283, 5, 16, 4472, 113, 103, 32, 15, 16, 5345, 19, 178, 32]),\n",
       "       list([1, 194, 1153, 194, 8255, 78, 228, 5, 6, 1463, 4369, 5012, 134, 26, 4, 715, 8, 118, 1634, 14, 394, 20, 13, 119, 954, 189, 102, 5, 207, 110, 3103, 21, 14, 69, 188, 8, 30, 23, 7, 4, 249, 126, 93, 4, 114, 9, 2300, 1523, 5, 647, 4, 116, 9, 35, 8163, 4, 229, 9, 340, 1322, 4, 118, 9, 4, 130, 4901, 19, 4, 1002, 5, 89, 29, 952, 46, 37, 4, 455, 9, 45, 43, 38, 1543, 1905, 398, 4, 1649, 26, 6853, 5, 163, 11, 3215, 2, 4, 1153, 9, 194, 775, 7, 8255, 2, 349, 2637, 148, 605, 2, 8003, 15, 123, 125, 68, 2, 6853, 15, 349, 165, 4362, 98, 5, 4, 228, 9, 43, 2, 1157, 15, 299, 120, 5, 120, 174, 11, 220, 175, 136, 50, 9, 4373, 228, 8255, 5, 2, 656, 245, 2350, 5, 4, 9837, 131, 152, 491, 18, 2, 32, 7464, 1212, 14, 9, 6, 371, 78, 22, 625, 64, 1382, 9, 8, 168, 145, 23, 4, 1690, 15, 16, 4, 1355, 5, 28, 6, 52, 154, 462, 33, 89, 78, 285, 16, 145, 95]),\n",
       "       list([1, 14, 47, 8, 30, 31, 7, 4, 249, 108, 7, 4, 5974, 54, 61, 369, 13, 71, 149, 14, 22, 112, 4, 2401, 311, 12, 16, 3711, 33, 75, 43, 1829, 296, 4, 86, 320, 35, 534, 19, 263, 4821, 1301, 4, 1873, 33, 89, 78, 12, 66, 16, 4, 360, 7, 4, 58, 316, 334, 11, 4, 1716, 43, 645, 662, 8, 257, 85, 1200, 42, 1228, 2578, 83, 68, 3912, 15, 36, 165, 1539, 278, 36, 69, 2, 780, 8, 106, 14, 6905, 1338, 18, 6, 22, 12, 215, 28, 610, 40, 6, 87, 326, 23, 2300, 21, 23, 22, 12, 272, 40, 57, 31, 11, 4, 22, 47, 6, 2307, 51, 9, 170, 23, 595, 116, 595, 1352, 13, 191, 79, 638, 89, 2, 14, 9, 8, 106, 607, 624, 35, 534, 6, 227, 7, 129, 113]),\n",
       "       list([1, 4, 2, 2, 33, 2804, 4, 2040, 432, 111, 153, 103, 4, 1494, 13, 70, 131, 67, 11, 61, 2, 744, 35, 3715, 761, 61, 5766, 452, 9214, 4, 985, 7, 2, 59, 166, 4, 105, 216, 1239, 41, 1797, 9, 15, 7, 35, 744, 2413, 31, 8, 4, 687, 23, 4, 2, 7339, 6, 3693, 42, 38, 39, 121, 59, 456, 10, 10, 7, 265, 12, 575, 111, 153, 159, 59, 16, 1447, 21, 25, 586, 482, 39, 4, 96, 59, 716, 12, 4, 172, 65, 9, 579, 11, 6004, 4, 1615, 5, 2, 7, 5168, 17, 13, 7064, 12, 19, 6, 464, 31, 314, 11, 2, 6, 719, 605, 11, 8, 202, 27, 310, 4, 3772, 3501, 8, 2722, 58, 10, 10, 537, 2116, 180, 40, 14, 413, 173, 7, 263, 112, 37, 152, 377, 4, 537, 263, 846, 579, 178, 54, 75, 71, 476, 36, 413, 263, 2504, 182, 5, 17, 75, 2306, 922, 36, 279, 131, 2895, 17, 2867, 42, 17, 35, 921, 2, 192, 5, 1219, 3890, 19, 2, 217, 4122, 1710, 537, 2, 1236, 5, 736, 10, 10, 61, 403, 9, 2, 40, 61, 4494, 5, 27, 4494, 159, 90, 263, 2311, 4319, 309, 8, 178, 5, 82, 4319, 4, 65, 15, 9225, 145, 143, 5122, 12, 7039, 537, 746, 537, 537, 15, 7979, 4, 2, 594, 7, 5168, 94, 9096, 3987, 2, 11, 2, 4, 538, 7, 1795, 246, 2, 9, 2, 11, 635, 14, 9, 51, 408, 12, 94, 318, 1382, 12, 47, 6, 2683, 936, 5, 6307, 2, 19, 49, 7, 4, 1885, 2, 1118, 25, 80, 126, 842, 10, 10, 2, 2, 4726, 27, 4494, 11, 1550, 3633, 159, 27, 341, 29, 2733, 19, 4185, 173, 7, 90, 2, 8, 30, 11, 4, 1784, 86, 1117, 8, 3261, 46, 11, 2, 21, 29, 9, 2841, 23, 4, 1010, 2, 793, 6, 2, 1386, 1830, 10, 10, 246, 50, 9, 6, 2750, 1944, 746, 90, 29, 2, 8, 124, 4, 882, 4, 882, 496, 27, 2, 2213, 537, 121, 127, 1219, 130, 5, 29, 494, 8, 124, 4, 882, 496, 4, 341, 7, 27, 846, 10, 10, 29, 9, 1906, 8, 97, 6, 236, 2, 1311, 8, 4, 2, 7, 31, 7, 2, 91, 2, 3987, 70, 4, 882, 30, 579, 42, 9, 12, 32, 11, 537, 10, 10, 11, 14, 65, 44, 537, 75, 2, 1775, 3353, 2, 1846, 4, 2, 7, 154, 5, 4, 518, 53, 2, 2, 7, 3211, 882, 11, 399, 38, 75, 257, 3807, 19, 2, 17, 29, 456, 4, 65, 7, 27, 205, 113, 10, 10, 2, 4, 2, 2, 9, 242, 4, 91, 1202, 2, 5, 2070, 307, 22, 7, 5168, 126, 93, 40, 2, 13, 188, 1076, 3222, 19, 4, 2, 7, 2348, 537, 23, 53, 537, 21, 82, 40, 2, 13, 2, 14, 280, 13, 219, 4, 2, 431, 758, 859, 4, 953, 1052, 2, 7, 5991, 5, 94, 40, 25, 238, 60, 2, 4, 2, 804, 2, 7, 4, 9941, 132, 8, 67, 6, 22, 15, 9, 283, 8, 5168, 14, 31, 9, 242, 955, 48, 25, 279, 2, 23, 12, 1685, 195, 25, 238, 60, 796, 2, 4, 671, 7, 2804, 5, 4, 559, 154, 888, 7, 726, 50, 26, 49, 7008, 15, 566, 30, 579, 21, 64, 2574]),\n",
       "       list([1, 249, 1323, 7, 61, 113, 10, 10, 13, 1637, 14, 20, 56, 33, 2401, 18, 457, 88, 13, 2626, 1400, 45, 3171, 13, 70, 79, 49, 706, 919, 13, 16, 355, 340, 355, 1696, 96, 143, 4, 22, 32, 289, 7, 61, 369, 71, 2359, 5, 13, 16, 131, 2073, 249, 114, 249, 229, 249, 20, 13, 28, 126, 110, 13, 473, 8, 569, 61, 419, 56, 429, 6, 1513, 18, 35, 534, 95, 474, 570, 5, 25, 124, 138, 88, 12, 421, 1543, 52, 725, 6397, 61, 419, 11, 13, 1571, 15, 1543, 20, 11, 4, 2, 5, 296, 12, 3524, 5, 15, 421, 128, 74, 233, 334, 207, 126, 224, 12, 562, 298, 2167, 1272, 7, 2601, 5, 516, 988, 43, 8, 79, 120, 15, 595, 13, 784, 25, 3171, 18, 165, 170, 143, 19, 14, 5, 7224, 6, 226, 251, 7, 61, 113])],\n",
       "      dtype=object)"
      ]
     },
     "execution_count": 4,
     "metadata": {},
     "output_type": "execute_result"
    }
   ],
   "source": [
    "# 探索数据\n",
    "train_data[:5]"
   ]
  },
  {
   "cell_type": "code",
   "execution_count": 5,
   "metadata": {},
   "outputs": [
    {
     "data": {
      "text/plain": [
       "25000"
      ]
     },
     "execution_count": 5,
     "metadata": {},
     "output_type": "execute_result"
    }
   ],
   "source": [
    "len(train_labels)"
   ]
  },
  {
   "cell_type": "code",
   "execution_count": 19,
   "metadata": {},
   "outputs": [],
   "source": [
    "# 将整数转换回字词\n",
    "word_index = imdb.get_word_index()\n",
    "word_index = {k:(v + 3) for k,v in word_index.items()}\n",
    "word_index[\"<PAD>\"] = 0\n",
    "word_index[\"<START>\"] = 1\n",
    "word_index[\"<UNK>\"] = 2  # unknown\n",
    "word_index[\"<UNUSED>\"] = 3"
   ]
  },
  {
   "cell_type": "code",
   "execution_count": 20,
   "metadata": {},
   "outputs": [
    {
     "data": {
      "text/plain": [
       "[('fawn', 34704),\n",
       " ('tsukino', 52009),\n",
       " ('nunnery', 52010),\n",
       " ('sonja', 16819),\n",
       " ('vani', 63954)]"
      ]
     },
     "execution_count": 20,
     "metadata": {},
     "output_type": "execute_result"
    }
   ],
   "source": [
    "list(word_index.items())[:5]"
   ]
  },
  {
   "cell_type": "code",
   "execution_count": 21,
   "metadata": {},
   "outputs": [],
   "source": [
    "reverse_word_index = dict([(value,key) for (key,value) in word_index.items()])"
   ]
  },
  {
   "cell_type": "code",
   "execution_count": 22,
   "metadata": {},
   "outputs": [],
   "source": [
    "def decode_review(text):\n",
    "    return ' '.join(reverse_word_index.get(i,'?') for i in text)"
   ]
  },
  {
   "cell_type": "code",
   "execution_count": 23,
   "metadata": {},
   "outputs": [
    {
     "data": {
      "text/plain": [
       "\"<START> this film was just brilliant casting location scenery story direction everyone's really suited the part they played and you could just imagine being there robert <UNK> is an amazing actor and now the same being director <UNK> father came from the same scottish island as myself so i loved the fact there was a real connection with this film the witty remarks throughout the film were great it was just brilliant so much that i bought the film as soon as it was released for <UNK> and would recommend it to everyone to watch and the fly fishing was amazing really cried at the end it was so sad and you know what they say if you cry at a film it must have been good and this definitely was also <UNK> to the two little boy's that played the <UNK> of norman and paul they were just brilliant children are often left out of the <UNK> list i think because the stars that play them all grown up are such a big profile for the whole film but these children are amazing and should be praised for what they have done don't you think the whole story was so lovely because it was true and was someone's life after all that was shared with us all\""
      ]
     },
     "execution_count": 23,
     "metadata": {},
     "output_type": "execute_result"
    }
   ],
   "source": [
    "decode_review(train_data[0])"
   ]
  },
  {
   "cell_type": "code",
   "execution_count": 26,
   "metadata": {},
   "outputs": [],
   "source": [
    "# 准备数据\n",
    "train_data = keras.preprocessing.sequence.pad_sequences(train_data,value=word_index[\"<PAD>\"],padding='post',maxlen=256)\n",
    "test_data = keras.preprocessing.sequence.pad_sequences(test_data,value=word_index[\"<PAD>\"],padding='post',maxlen=256)"
   ]
  },
  {
   "cell_type": "code",
   "execution_count": 28,
   "metadata": {},
   "outputs": [],
   "source": [
    "import pandas as pd"
   ]
  },
  {
   "cell_type": "code",
   "execution_count": 31,
   "metadata": {},
   "outputs": [],
   "source": [
    "pd.set_option('max_columns',None)\n",
    "pd.set_option('max_colwidth',10000)"
   ]
  },
  {
   "cell_type": "code",
   "execution_count": 33,
   "metadata": {},
   "outputs": [],
   "source": [
    "np.set_printoptions(threshold=np.inf)"
   ]
  },
  {
   "cell_type": "code",
   "execution_count": 34,
   "metadata": {},
   "outputs": [
    {
     "data": {
      "text/plain": [
       "array([[   1,   14,   22,   16,   43,  530,  973, 1622, 1385,   65,  458,\n",
       "        4468,   66, 3941,    4,  173,   36,  256,    5,   25,  100,   43,\n",
       "         838,  112,   50,  670,    2,    9,   35,  480,  284,    5,  150,\n",
       "           4,  172,  112,  167,    2,  336,  385,   39,    4,  172, 4536,\n",
       "        1111,   17,  546,   38,   13,  447,    4,  192,   50,   16,    6,\n",
       "         147, 2025,   19,   14,   22,    4, 1920, 4613,  469,    4,   22,\n",
       "          71,   87,   12,   16,   43,  530,   38,   76,   15,   13, 1247,\n",
       "           4,   22,   17,  515,   17,   12,   16,  626,   18,    2,    5,\n",
       "          62,  386,   12,    8,  316,    8,  106,    5,    4, 2223, 5244,\n",
       "          16,  480,   66, 3785,   33,    4,  130,   12,   16,   38,  619,\n",
       "           5,   25,  124,   51,   36,  135,   48,   25, 1415,   33,    6,\n",
       "          22,   12,  215,   28,   77,   52,    5,   14,  407,   16,   82,\n",
       "           2,    8,    4,  107,  117, 5952,   15,  256,    4,    2,    7,\n",
       "        3766,    5,  723,   36,   71,   43,  530,  476,   26,  400,  317,\n",
       "          46,    7,    4,    2, 1029,   13,  104,   88,    4,  381,   15,\n",
       "         297,   98,   32, 2071,   56,   26,  141,    6,  194, 7486,   18,\n",
       "           4,  226,   22,   21,  134,  476,   26,  480,    5,  144,   30,\n",
       "        5535,   18,   51,   36,   28,  224,   92,   25,  104,    4,  226,\n",
       "          65,   16,   38, 1334,   88,   12,   16,  283,    5,   16, 4472,\n",
       "         113,  103,   32,   15,   16, 5345,   19,  178,   32,    0,    0,\n",
       "           0,    0,    0,    0,    0,    0,    0,    0,    0,    0,    0,\n",
       "           0,    0,    0,    0,    0,    0,    0,    0,    0,    0,    0,\n",
       "           0,    0,    0,    0,    0,    0,    0,    0,    0,    0,    0,\n",
       "           0,    0,    0],\n",
       "       [   1,  194, 1153,  194, 8255,   78,  228,    5,    6, 1463, 4369,\n",
       "        5012,  134,   26,    4,  715,    8,  118, 1634,   14,  394,   20,\n",
       "          13,  119,  954,  189,  102,    5,  207,  110, 3103,   21,   14,\n",
       "          69,  188,    8,   30,   23,    7,    4,  249,  126,   93,    4,\n",
       "         114,    9, 2300, 1523,    5,  647,    4,  116,    9,   35, 8163,\n",
       "           4,  229,    9,  340, 1322,    4,  118,    9,    4,  130, 4901,\n",
       "          19,    4, 1002,    5,   89,   29,  952,   46,   37,    4,  455,\n",
       "           9,   45,   43,   38, 1543, 1905,  398,    4, 1649,   26, 6853,\n",
       "           5,  163,   11, 3215,    2,    4, 1153,    9,  194,  775,    7,\n",
       "        8255,    2,  349, 2637,  148,  605,    2, 8003,   15,  123,  125,\n",
       "          68,    2, 6853,   15,  349,  165, 4362,   98,    5,    4,  228,\n",
       "           9,   43,    2, 1157,   15,  299,  120,    5,  120,  174,   11,\n",
       "         220,  175,  136,   50,    9, 4373,  228, 8255,    5,    2,  656,\n",
       "         245, 2350,    5,    4, 9837,  131,  152,  491,   18,    2,   32,\n",
       "        7464, 1212,   14,    9,    6,  371,   78,   22,  625,   64, 1382,\n",
       "           9,    8,  168,  145,   23,    4, 1690,   15,   16,    4, 1355,\n",
       "           5,   28,    6,   52,  154,  462,   33,   89,   78,  285,   16,\n",
       "         145,   95,    0,    0,    0,    0,    0,    0,    0,    0,    0,\n",
       "           0,    0,    0,    0,    0,    0,    0,    0,    0,    0,    0,\n",
       "           0,    0,    0,    0,    0,    0,    0,    0,    0,    0,    0,\n",
       "           0,    0,    0,    0,    0,    0,    0,    0,    0,    0,    0,\n",
       "           0,    0,    0,    0,    0,    0,    0,    0,    0,    0,    0,\n",
       "           0,    0,    0,    0,    0,    0,    0,    0,    0,    0,    0,\n",
       "           0,    0,    0],\n",
       "       [   1,   14,   47,    8,   30,   31,    7,    4,  249,  108,    7,\n",
       "           4, 5974,   54,   61,  369,   13,   71,  149,   14,   22,  112,\n",
       "           4, 2401,  311,   12,   16, 3711,   33,   75,   43, 1829,  296,\n",
       "           4,   86,  320,   35,  534,   19,  263, 4821, 1301,    4, 1873,\n",
       "          33,   89,   78,   12,   66,   16,    4,  360,    7,    4,   58,\n",
       "         316,  334,   11,    4, 1716,   43,  645,  662,    8,  257,   85,\n",
       "        1200,   42, 1228, 2578,   83,   68, 3912,   15,   36,  165, 1539,\n",
       "         278,   36,   69,    2,  780,    8,  106,   14, 6905, 1338,   18,\n",
       "           6,   22,   12,  215,   28,  610,   40,    6,   87,  326,   23,\n",
       "        2300,   21,   23,   22,   12,  272,   40,   57,   31,   11,    4,\n",
       "          22,   47,    6, 2307,   51,    9,  170,   23,  595,  116,  595,\n",
       "        1352,   13,  191,   79,  638,   89,    2,   14,    9,    8,  106,\n",
       "         607,  624,   35,  534,    6,  227,    7,  129,  113,    0,    0,\n",
       "           0,    0,    0,    0,    0,    0,    0,    0,    0,    0,    0,\n",
       "           0,    0,    0,    0,    0,    0,    0,    0,    0,    0,    0,\n",
       "           0,    0,    0,    0,    0,    0,    0,    0,    0,    0,    0,\n",
       "           0,    0,    0,    0,    0,    0,    0,    0,    0,    0,    0,\n",
       "           0,    0,    0,    0,    0,    0,    0,    0,    0,    0,    0,\n",
       "           0,    0,    0,    0,    0,    0,    0,    0,    0,    0,    0,\n",
       "           0,    0,    0,    0,    0,    0,    0,    0,    0,    0,    0,\n",
       "           0,    0,    0,    0,    0,    0,    0,    0,    0,    0,    0,\n",
       "           0,    0,    0,    0,    0,    0,    0,    0,    0,    0,    0,\n",
       "           0,    0,    0,    0,    0,    0,    0,    0,    0,    0,    0,\n",
       "           0,    0,    0],\n",
       "       [1784,   86, 1117,    8, 3261,   46,   11,    2,   21,   29,    9,\n",
       "        2841,   23,    4, 1010,    2,  793,    6,    2, 1386, 1830,   10,\n",
       "          10,  246,   50,    9,    6, 2750, 1944,  746,   90,   29,    2,\n",
       "           8,  124,    4,  882,    4,  882,  496,   27,    2, 2213,  537,\n",
       "         121,  127, 1219,  130,    5,   29,  494,    8,  124,    4,  882,\n",
       "         496,    4,  341,    7,   27,  846,   10,   10,   29,    9, 1906,\n",
       "           8,   97,    6,  236,    2, 1311,    8,    4,    2,    7,   31,\n",
       "           7,    2,   91,    2, 3987,   70,    4,  882,   30,  579,   42,\n",
       "           9,   12,   32,   11,  537,   10,   10,   11,   14,   65,   44,\n",
       "         537,   75,    2, 1775, 3353,    2, 1846,    4,    2,    7,  154,\n",
       "           5,    4,  518,   53,    2,    2,    7, 3211,  882,   11,  399,\n",
       "          38,   75,  257, 3807,   19,    2,   17,   29,  456,    4,   65,\n",
       "           7,   27,  205,  113,   10,   10,    2,    4,    2,    2,    9,\n",
       "         242,    4,   91, 1202,    2,    5, 2070,  307,   22,    7, 5168,\n",
       "         126,   93,   40,    2,   13,  188, 1076, 3222,   19,    4,    2,\n",
       "           7, 2348,  537,   23,   53,  537,   21,   82,   40,    2,   13,\n",
       "           2,   14,  280,   13,  219,    4,    2,  431,  758,  859,    4,\n",
       "         953, 1052,    2,    7, 5991,    5,   94,   40,   25,  238,   60,\n",
       "           2,    4,    2,  804,    2,    7,    4, 9941,  132,    8,   67,\n",
       "           6,   22,   15,    9,  283,    8, 5168,   14,   31,    9,  242,\n",
       "         955,   48,   25,  279,    2,   23,   12, 1685,  195,   25,  238,\n",
       "          60,  796,    2,    4,  671,    7, 2804,    5,    4,  559,  154,\n",
       "         888,    7,  726,   50,   26,   49, 7008,   15,  566,   30,  579,\n",
       "          21,   64, 2574],\n",
       "       [   1,  249, 1323,    7,   61,  113,   10,   10,   13, 1637,   14,\n",
       "          20,   56,   33, 2401,   18,  457,   88,   13, 2626, 1400,   45,\n",
       "        3171,   13,   70,   79,   49,  706,  919,   13,   16,  355,  340,\n",
       "         355, 1696,   96,  143,    4,   22,   32,  289,    7,   61,  369,\n",
       "          71, 2359,    5,   13,   16,  131, 2073,  249,  114,  249,  229,\n",
       "         249,   20,   13,   28,  126,  110,   13,  473,    8,  569,   61,\n",
       "         419,   56,  429,    6, 1513,   18,   35,  534,   95,  474,  570,\n",
       "           5,   25,  124,  138,   88,   12,  421, 1543,   52,  725, 6397,\n",
       "          61,  419,   11,   13, 1571,   15, 1543,   20,   11,    4,    2,\n",
       "           5,  296,   12, 3524,    5,   15,  421,  128,   74,  233,  334,\n",
       "         207,  126,  224,   12,  562,  298, 2167, 1272,    7, 2601,    5,\n",
       "         516,  988,   43,    8,   79,  120,   15,  595,   13,  784,   25,\n",
       "        3171,   18,  165,  170,  143,   19,   14,    5, 7224,    6,  226,\n",
       "         251,    7,   61,  113,    0,    0,    0,    0,    0,    0,    0,\n",
       "           0,    0,    0,    0,    0,    0,    0,    0,    0,    0,    0,\n",
       "           0,    0,    0,    0,    0,    0,    0,    0,    0,    0,    0,\n",
       "           0,    0,    0,    0,    0,    0,    0,    0,    0,    0,    0,\n",
       "           0,    0,    0,    0,    0,    0,    0,    0,    0,    0,    0,\n",
       "           0,    0,    0,    0,    0,    0,    0,    0,    0,    0,    0,\n",
       "           0,    0,    0,    0,    0,    0,    0,    0,    0,    0,    0,\n",
       "           0,    0,    0,    0,    0,    0,    0,    0,    0,    0,    0,\n",
       "           0,    0,    0,    0,    0,    0,    0,    0,    0,    0,    0,\n",
       "           0,    0,    0,    0,    0,    0,    0,    0,    0,    0,    0,\n",
       "           0,    0,    0]])"
      ]
     },
     "execution_count": 34,
     "metadata": {},
     "output_type": "execute_result"
    }
   ],
   "source": [
    "train_data[:5]"
   ]
  },
  {
   "cell_type": "code",
   "execution_count": 35,
   "metadata": {},
   "outputs": [],
   "source": [
    "train_data_tmp = keras.preprocessing.sequence.pad_sequences(train_data,value=0,padding='post',maxlen=256)"
   ]
  },
  {
   "cell_type": "code",
   "execution_count": 45,
   "metadata": {},
   "outputs": [
    {
     "name": "stdout",
     "output_type": "stream",
     "text": [
      "_________________________________________________________________\n",
      "Layer (type)                 Output Shape              Param #   \n",
      "=================================================================\n",
      "embedding_1 (Embedding)      (None, None, 16)          160000    \n",
      "_________________________________________________________________\n",
      "global_average_pooling1d_1 ( (None, 16)                0         \n",
      "_________________________________________________________________\n",
      "dense_2 (Dense)              (None, 16)                272       \n",
      "_________________________________________________________________\n",
      "dense_3 (Dense)              (None, 1)                 17        \n",
      "=================================================================\n",
      "Total params: 160,289\n",
      "Trainable params: 160,289\n",
      "Non-trainable params: 0\n",
      "_________________________________________________________________\n"
     ]
    }
   ],
   "source": [
    "# 构建模型\n",
    "vocab_size = 10000\n",
    "\n",
    "model = keras.Sequential()\n",
    "model.add(keras.layers.Embedding(vocab_size,16))\n",
    "model.add(keras.layers.GlobalAveragePooling1D())\n",
    "model.add(keras.layers.Dense(16,activation=tf.nn.relu))\n",
    "model.add(keras.layers.Dense(1,activation=tf.nn.sigmoid))\n",
    "\n",
    "model.summary()"
   ]
  },
  {
   "cell_type": "code",
   "execution_count": 46,
   "metadata": {},
   "outputs": [],
   "source": [
    "# 损失函数和优化器\n",
    "model.compile(optimizer=tf.train.AdamOptimizer(),loss='binary_crossentropy',metrics=['accuracy'])"
   ]
  },
  {
   "cell_type": "code",
   "execution_count": 47,
   "metadata": {},
   "outputs": [],
   "source": [
    "# 创建验证集\n",
    "x_val = train_data[:10000]\n",
    "partial_x_train = train_data[10000:]\n",
    "\n",
    "y_val = train_labels[:10000]\n",
    "partial_y_train = train_labels[10000:]"
   ]
  },
  {
   "cell_type": "code",
   "execution_count": 48,
   "metadata": {},
   "outputs": [
    {
     "name": "stdout",
     "output_type": "stream",
     "text": [
      "Train on 15000 samples, validate on 10000 samples\n",
      "Epoch 1/60\n",
      "15000/15000 [==============================] - 1s 43us/step - loss: 0.6921 - acc: 0.5245 - val_loss: 0.6904 - val_acc: 0.7201\n",
      "Epoch 2/60\n",
      "15000/15000 [==============================] - 0s 27us/step - loss: 0.6874 - acc: 0.7188 - val_loss: 0.6842 - val_acc: 0.7200\n",
      "Epoch 3/60\n",
      "15000/15000 [==============================] - 0s 27us/step - loss: 0.6776 - acc: 0.7622 - val_loss: 0.6720 - val_acc: 0.7623\n",
      "Epoch 4/60\n",
      "15000/15000 [==============================] - 0s 27us/step - loss: 0.6601 - acc: 0.7812 - val_loss: 0.6514 - val_acc: 0.7724\n",
      "Epoch 5/60\n",
      "15000/15000 [==============================] - 0s 26us/step - loss: 0.6327 - acc: 0.7965 - val_loss: 0.6217 - val_acc: 0.7839\n",
      "Epoch 6/60\n",
      "15000/15000 [==============================] - 0s 26us/step - loss: 0.5957 - acc: 0.8118 - val_loss: 0.5845 - val_acc: 0.7985\n",
      "Epoch 7/60\n",
      "15000/15000 [==============================] - 0s 27us/step - loss: 0.5522 - acc: 0.8259 - val_loss: 0.5430 - val_acc: 0.8092\n",
      "Epoch 8/60\n",
      "15000/15000 [==============================] - 0s 26us/step - loss: 0.5058 - acc: 0.8406 - val_loss: 0.5015 - val_acc: 0.8270\n",
      "Epoch 9/60\n",
      "15000/15000 [==============================] - 0s 26us/step - loss: 0.4604 - acc: 0.8551 - val_loss: 0.4629 - val_acc: 0.8368\n",
      "Epoch 10/60\n",
      "15000/15000 [==============================] - 0s 26us/step - loss: 0.4196 - acc: 0.8687 - val_loss: 0.4293 - val_acc: 0.8489\n",
      "Epoch 11/60\n",
      "15000/15000 [==============================] - 0s 26us/step - loss: 0.3845 - acc: 0.8764 - val_loss: 0.4016 - val_acc: 0.8548\n",
      "Epoch 12/60\n",
      "15000/15000 [==============================] - 0s 27us/step - loss: 0.3545 - acc: 0.8846 - val_loss: 0.3800 - val_acc: 0.8577\n",
      "Epoch 13/60\n",
      "15000/15000 [==============================] - 0s 27us/step - loss: 0.3292 - acc: 0.8907 - val_loss: 0.3612 - val_acc: 0.8662\n",
      "Epoch 14/60\n",
      "15000/15000 [==============================] - 0s 27us/step - loss: 0.3082 - acc: 0.8968 - val_loss: 0.3472 - val_acc: 0.8680\n",
      "Epoch 15/60\n",
      "15000/15000 [==============================] - 0s 26us/step - loss: 0.2894 - acc: 0.9009 - val_loss: 0.3352 - val_acc: 0.8691\n",
      "Epoch 16/60\n",
      "15000/15000 [==============================] - 0s 26us/step - loss: 0.2733 - acc: 0.9067 - val_loss: 0.3249 - val_acc: 0.8752\n",
      "Epoch 17/60\n",
      "15000/15000 [==============================] - 0s 27us/step - loss: 0.2590 - acc: 0.9112 - val_loss: 0.3167 - val_acc: 0.8768\n",
      "Epoch 18/60\n",
      "15000/15000 [==============================] - 0s 26us/step - loss: 0.2458 - acc: 0.9157 - val_loss: 0.3113 - val_acc: 0.8763\n",
      "Epoch 19/60\n",
      "15000/15000 [==============================] - 0s 26us/step - loss: 0.2343 - acc: 0.9198 - val_loss: 0.3044 - val_acc: 0.8804\n",
      "Epoch 20/60\n",
      "15000/15000 [==============================] - 0s 27us/step - loss: 0.2234 - acc: 0.9225 - val_loss: 0.3004 - val_acc: 0.8819\n",
      "Epoch 21/60\n",
      "15000/15000 [==============================] - 0s 26us/step - loss: 0.2140 - acc: 0.9259 - val_loss: 0.2959 - val_acc: 0.8828\n",
      "Epoch 22/60\n",
      "15000/15000 [==============================] - 0s 26us/step - loss: 0.2048 - acc: 0.9290 - val_loss: 0.2936 - val_acc: 0.8820\n",
      "Epoch 23/60\n",
      "15000/15000 [==============================] - 0s 26us/step - loss: 0.1956 - acc: 0.9335 - val_loss: 0.2905 - val_acc: 0.8831\n",
      "Epoch 24/60\n",
      "15000/15000 [==============================] - 0s 27us/step - loss: 0.1877 - acc: 0.9368 - val_loss: 0.2886 - val_acc: 0.8843\n",
      "Epoch 25/60\n",
      "15000/15000 [==============================] - 0s 27us/step - loss: 0.1801 - acc: 0.9411 - val_loss: 0.2870 - val_acc: 0.8853\n",
      "Epoch 26/60\n",
      "15000/15000 [==============================] - 0s 27us/step - loss: 0.1730 - acc: 0.9441 - val_loss: 0.2874 - val_acc: 0.8848\n",
      "Epoch 27/60\n",
      "15000/15000 [==============================] - 0s 26us/step - loss: 0.1665 - acc: 0.9457 - val_loss: 0.2857 - val_acc: 0.8844\n",
      "Epoch 28/60\n",
      "15000/15000 [==============================] - 0s 27us/step - loss: 0.1599 - acc: 0.9487 - val_loss: 0.2849 - val_acc: 0.8852\n",
      "Epoch 29/60\n",
      "15000/15000 [==============================] - 0s 26us/step - loss: 0.1537 - acc: 0.9521 - val_loss: 0.2853 - val_acc: 0.8863\n",
      "Epoch 30/60\n",
      "15000/15000 [==============================] - 0s 27us/step - loss: 0.1479 - acc: 0.9551 - val_loss: 0.2857 - val_acc: 0.8854\n",
      "Epoch 31/60\n",
      "15000/15000 [==============================] - 0s 28us/step - loss: 0.1424 - acc: 0.9567 - val_loss: 0.2866 - val_acc: 0.8856\n",
      "Epoch 32/60\n",
      "15000/15000 [==============================] - 0s 28us/step - loss: 0.1372 - acc: 0.9589 - val_loss: 0.2873 - val_acc: 0.8862\n",
      "Epoch 33/60\n",
      "15000/15000 [==============================] - 0s 27us/step - loss: 0.1320 - acc: 0.9615 - val_loss: 0.2882 - val_acc: 0.8860\n",
      "Epoch 34/60\n",
      "15000/15000 [==============================] - 0s 26us/step - loss: 0.1277 - acc: 0.9625 - val_loss: 0.2899 - val_acc: 0.8866\n",
      "Epoch 35/60\n",
      "15000/15000 [==============================] - 0s 28us/step - loss: 0.1235 - acc: 0.9631 - val_loss: 0.2922 - val_acc: 0.8853\n",
      "Epoch 36/60\n",
      "15000/15000 [==============================] - 0s 27us/step - loss: 0.1184 - acc: 0.9669 - val_loss: 0.2934 - val_acc: 0.8859\n",
      "Epoch 37/60\n",
      "15000/15000 [==============================] - 0s 28us/step - loss: 0.1143 - acc: 0.9683 - val_loss: 0.2949 - val_acc: 0.8855\n",
      "Epoch 38/60\n",
      "15000/15000 [==============================] - 0s 27us/step - loss: 0.1103 - acc: 0.9697 - val_loss: 0.2984 - val_acc: 0.8851\n",
      "Epoch 39/60\n",
      "15000/15000 [==============================] - 0s 27us/step - loss: 0.1072 - acc: 0.9699 - val_loss: 0.2998 - val_acc: 0.8843\n",
      "Epoch 40/60\n",
      "15000/15000 [==============================] - 0s 27us/step - loss: 0.1028 - acc: 0.9718 - val_loss: 0.3020 - val_acc: 0.8841\n",
      "Epoch 41/60\n",
      "15000/15000 [==============================] - 0s 27us/step - loss: 0.0990 - acc: 0.9732 - val_loss: 0.3051 - val_acc: 0.8829\n",
      "Epoch 42/60\n",
      "15000/15000 [==============================] - 0s 27us/step - loss: 0.0956 - acc: 0.9745 - val_loss: 0.3075 - val_acc: 0.8829\n",
      "Epoch 43/60\n",
      "15000/15000 [==============================] - 0s 26us/step - loss: 0.0922 - acc: 0.9761 - val_loss: 0.3110 - val_acc: 0.8827\n",
      "Epoch 44/60\n",
      "15000/15000 [==============================] - 0s 26us/step - loss: 0.0889 - acc: 0.9773 - val_loss: 0.3135 - val_acc: 0.8831\n",
      "Epoch 45/60\n",
      "15000/15000 [==============================] - 0s 27us/step - loss: 0.0863 - acc: 0.9782 - val_loss: 0.3178 - val_acc: 0.8813\n",
      "Epoch 46/60\n",
      "15000/15000 [==============================] - 0s 26us/step - loss: 0.0828 - acc: 0.9801 - val_loss: 0.3212 - val_acc: 0.8810\n",
      "Epoch 47/60\n",
      "15000/15000 [==============================] - 0s 26us/step - loss: 0.0801 - acc: 0.9812 - val_loss: 0.3235 - val_acc: 0.8817\n",
      "Epoch 48/60\n",
      "15000/15000 [==============================] - 0s 26us/step - loss: 0.0773 - acc: 0.9818 - val_loss: 0.3271 - val_acc: 0.8809\n",
      "Epoch 49/60\n",
      "15000/15000 [==============================] - 0s 27us/step - loss: 0.0745 - acc: 0.9832 - val_loss: 0.3316 - val_acc: 0.8792\n",
      "Epoch 50/60\n",
      "15000/15000 [==============================] - 0s 26us/step - loss: 0.0721 - acc: 0.9834 - val_loss: 0.3358 - val_acc: 0.8791\n",
      "Epoch 51/60\n",
      "15000/15000 [==============================] - 0s 28us/step - loss: 0.0697 - acc: 0.9844 - val_loss: 0.3382 - val_acc: 0.8801\n",
      "Epoch 52/60\n",
      "15000/15000 [==============================] - 0s 26us/step - loss: 0.0670 - acc: 0.9853 - val_loss: 0.3424 - val_acc: 0.8791\n",
      "Epoch 53/60\n",
      "15000/15000 [==============================] - 0s 26us/step - loss: 0.0646 - acc: 0.9857 - val_loss: 0.3469 - val_acc: 0.8781\n",
      "Epoch 54/60\n",
      "15000/15000 [==============================] - 0s 26us/step - loss: 0.0624 - acc: 0.9870 - val_loss: 0.3502 - val_acc: 0.8788\n",
      "Epoch 55/60\n",
      "15000/15000 [==============================] - 0s 26us/step - loss: 0.0606 - acc: 0.9878 - val_loss: 0.3544 - val_acc: 0.8787\n",
      "Epoch 56/60\n",
      "15000/15000 [==============================] - 0s 27us/step - loss: 0.0584 - acc: 0.9881 - val_loss: 0.3603 - val_acc: 0.8770\n",
      "Epoch 57/60\n",
      "15000/15000 [==============================] - 0s 27us/step - loss: 0.0567 - acc: 0.9887 - val_loss: 0.3632 - val_acc: 0.8780\n",
      "Epoch 58/60\n",
      "15000/15000 [==============================] - 0s 26us/step - loss: 0.0543 - acc: 0.9899 - val_loss: 0.3701 - val_acc: 0.8755\n",
      "Epoch 59/60\n",
      "15000/15000 [==============================] - 0s 26us/step - loss: 0.0523 - acc: 0.9908 - val_loss: 0.3746 - val_acc: 0.8749\n",
      "Epoch 60/60\n"
     ]
    },
    {
     "name": "stdout",
     "output_type": "stream",
     "text": [
      "15000/15000 [==============================] - 0s 31us/step - loss: 0.0507 - acc: 0.9912 - val_loss: 0.3765 - val_acc: 0.8770\n"
     ]
    }
   ],
   "source": [
    "# 训练模型\n",
    "history = model.fit(partial_x_train,partial_y_train,epochs=60,batch_size=512,validation_data=(x_val,y_val),verbose=1)"
   ]
  },
  {
   "cell_type": "code",
   "execution_count": 49,
   "metadata": {},
   "outputs": [
    {
     "name": "stdout",
     "output_type": "stream",
     "text": [
      "25000/25000 [==============================] - 1s 30us/step\n",
      "[0.4026299345421791, 0.86484]\n"
     ]
    }
   ],
   "source": [
    "results = model.evaluate(test_data, test_labels)\n",
    "print(results)"
   ]
  },
  {
   "cell_type": "code",
   "execution_count": 50,
   "metadata": {},
   "outputs": [
    {
     "data": {
      "text/plain": [
       "dict_keys(['val_loss', 'val_acc', 'loss', 'acc'])"
      ]
     },
     "execution_count": 50,
     "metadata": {},
     "output_type": "execute_result"
    }
   ],
   "source": [
    "# model.fit()返回一个History对象，该对象包含一个字典，其中包括训练期间发生的所有情况\n",
    "history_dict = history.history\n",
    "history_dict.keys()"
   ]
  },
  {
   "cell_type": "code",
   "execution_count": 51,
   "metadata": {},
   "outputs": [],
   "source": [
    "import matplotlib.pyplot as plt"
   ]
  },
  {
   "cell_type": "code",
   "execution_count": 52,
   "metadata": {},
   "outputs": [
    {
     "data": {
      "image/png": "[encoded data removed]",
      "text/plain": [
       "<Figure size 432x288 with 1 Axes>"
      ]
     },
     "metadata": {},
     "output_type": "display_data"
    }
   ],
   "source": [
    "acc = history.history['acc']\n",
    "val_acc = history.history['val_acc']\n",
    "loss = history.history['loss']\n",
    "val_loss = history.history['val_loss']\n",
    "\n",
    "epochs = range(1,len(acc) + 1)\n",
    "\n",
    "# \"bo\" is for \"blue dot\"\n",
    "plt.plot(epochs, loss, 'bo', label='Training loss')\n",
    "# b is for \"solid blue line\"\n",
    "plt.plot(epochs, val_loss, 'b', label='Validation loss')\n",
    "plt.title('Training and validation loss')\n",
    "plt.xlabel('Epochs')\n",
    "plt.ylabel('Loss')\n",
    "plt.legend()\n",
    "\n",
    "plt.show()"
   ]
  },
  {
   "cell_type": "code",
   "execution_count": 53,
   "metadata": {},
   "outputs": [
    {
     "data": {
      "image/png": "[encoded data removed]",
      "text/plain": [
       "<Figure size 432x288 with 1 Axes>"
      ]
     },
     "metadata": {},
     "output_type": "display_data"
    }
   ],
   "source": [
    "plt.clf()   # clear figure\n",
    "acc_values = history_dict['acc']\n",
    "val_acc_values = history_dict['val_acc']\n",
    "\n",
    "plt.plot(epochs, acc, 'bo', label='Training acc')\n",
    "plt.plot(epochs, val_acc, 'b', label='Validation acc')\n",
    "plt.title('Training and validation accuracy')\n",
    "plt.xlabel('Epochs')\n",
    "plt.ylabel('Accuracy')\n",
    "plt.legend()\n",
    "\n",
    "plt.show()"
   ]
  },
  {
   "cell_type": "code",
   "execution_count": null,
   "metadata": {},
   "outputs": [],
   "source": []
  }
 ],
 "metadata": {
  "kernelspec": {
   "display_name": "Python [conda env:root] *",
   "language": "python",
   "name": "conda-root-py"
  },
  "language_info": {
   "codemirror_mode": {
    "name": "ipython",
    "version": 3
   },
   "file_extension": ".py",
   "mimetype": "text/x-python",
   "name": "python",
   "nbconvert_exporter": "python",
   "pygments_lexer": "ipython3",
   "version": "3.6.5"
  }
 },
 "nbformat": 4,
 "nbformat_minor": 2
}
