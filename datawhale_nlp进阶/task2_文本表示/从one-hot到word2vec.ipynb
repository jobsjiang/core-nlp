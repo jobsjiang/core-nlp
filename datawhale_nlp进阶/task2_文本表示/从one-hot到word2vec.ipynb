{
 "cells": [
  {
   "cell_type": "markdown",
   "metadata": {},
   "source": [
    "### One-hot优缺点分析：\n",
    "####   优点：\n",
    "* 一是解决了分类器不好处理离散数据的问题\n",
    "* 二是在一定程度上也起到了扩充特征的作用\n",
    "#### 缺点：\n",
    "* 在文本特征表示上有些缺点就非常突出了\n",
    "* 首先，它是一个词袋模型，不考虑词与词之间的顺序\n",
    "* 其次，它假设词与词相互独立（在大多数情况下，词与词是相互影响的）\n",
    "* 最后，它得到的特征是离散稀疏的"
   ]
  },
  {
   "cell_type": "code",
   "execution_count": 1,
   "metadata": {},
   "outputs": [],
   "source": [
    "from IPython.display import Latex"
   ]
  },
  {
   "attachments": {},
   "cell_type": "markdown",
   "metadata": {},
   "source": [
    "#### Skip-Gram模型的训练过程中的最大似然估计损失函数：\n",
    "$$\n",
    "\\prod_{t=1}^{T} \\prod_{-m \\leq j \\leq m, j \\neq 0} \\mathbb{P}\\left(w^{(t+j)} | w^{(t)}\\right)\n",
    "$$ \n",
    "上式的最大似然估计与最小化以下损失函数等价：\n",
    "$$\n",
    "-\\frac{1}{T} \\sum_{t=1}^{T} \\sum_{-m \\leq j \\leq m, j \\neq 0} \\log \\mathbb{P}\\left(w^{(t+j)} | w^{(t)}\\right)\n",
    "$$\n",
    "分母长度为T的文本序列的长度是否需要除"
   ]
  },
  {
   "cell_type": "code",
   "execution_count": null,
   "metadata": {},
   "outputs": [],
   "source": []
  }
 ],
 "metadata": {
  "kernelspec": {
   "display_name": "Python [conda env:root] *",
   "language": "python",
   "name": "conda-root-py"
  },
  "language_info": {
   "codemirror_mode": {
    "name": "ipython",
    "version": 3
   },
   "file_extension": ".py",
   "mimetype": "text/x-python",
   "name": "python",
   "nbconvert_exporter": "python",
   "pygments_lexer": "ipython3",
   "version": "3.6.5"
  }
 },
 "nbformat": 4,
 "nbformat_minor": 2
}
