{
 "cells": [
  {
   "cell_type": "markdown",
   "metadata": {},
   "source": [
    "利用多个不同size的kernel来提取句子中的关键信息（类似于多窗口大小的ngram）,从而能够更好的捕捉局部相关性<br>\n",
    "网络结构：<br>\n",
    "![jupyter](https://img2018.cnblogs.com/blog/1182656/201809/1182656-20180919171652802-136261435.png)\n",
    "TextCNN的详细过程原理图如下：<br>\n",
    "![jupyter](https://img2018.cnblogs.com/blog/1182656/201809/1182656-20180919171920103-1233770993.png)\n",
    "TextCNN详细过程：<br>\n",
    "* Embedding:第一层是图中最左边的7乘5的句子矩阵，每行是词向量，维度=5，这个可以类比为图像中的原始像素点。\n",
    "* Convolution：然后经过 kernel_sizes=(2,3,4) 的一维卷积层，每个kernel_size 有两个输出 channel。\n",
    "* MaxPolling：第三层是一个1-max pooling层，这样不同长度句子经过pooling层之后都能变成定长的表示。\n",
    "* FullConnection and Softmax：最后接一层全连接的 softmax 层，输出每个类别的概率。\n",
    "一维卷积：<br>\n",
    "* 图像是二维卷积\n",
    "* 文本是一维数据，因此在TextCNN卷积用的是一维卷积（在word-level上是一维卷积，虽然文本经过词向量表达后是二维数据，但是在embedding-level上的二维卷积没有意义）。一维卷积带来的问题是需要通过设计不同kernel_size的filter获取不同宽度的视野。"
   ]
  }
 ],
 "metadata": {
  "kernelspec": {
   "display_name": "Python [conda env:root] *",
   "language": "python",
   "name": "conda-root-py"
  },
  "language_info": {
   "codemirror_mode": {
    "name": "ipython",
    "version": 3
   },
   "file_extension": ".py",
   "mimetype": "text/x-python",
   "name": "python",
   "nbconvert_exporter": "python",
   "pygments_lexer": "ipython3",
   "version": "3.6.5"
  }
 },
 "nbformat": 4,
 "nbformat_minor": 2
}
