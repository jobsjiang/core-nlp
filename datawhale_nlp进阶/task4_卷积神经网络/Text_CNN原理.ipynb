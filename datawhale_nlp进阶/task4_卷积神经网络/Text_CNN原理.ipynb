{
 "cells": [
  {
   "cell_type": "markdown",
   "metadata": {},
   "source": [
    "利用多个不同size的kernel来提取句子中的关键信息（类似于多窗口大小的ngram）,从而能够更好的捕捉局部相关性<br>\n",
    "网络结构：<br>\n",
    "![jupyter](https://img2018.cnblogs.com/blog/1182656/201809/1182656-20180919171652802-136261435.png)\n",
    "TextCNN的详细过程原理图如下：<br>\n",
    "![jupyter](https://img2018.cnblogs.com/blog/1182656/201809/1182656-20180919171920103-1233770993.png)\n",
    "TextCNN详细过程：<br>\n",
    "* Embedding:第一层是图中最左边的7乘5的句子矩阵，每行是词向量，维度=5，这个可以类比为图像中的原始像素点。\n",
    "* Convolution：然后经过 kernel_sizes=(2,3,4) 的一维卷积层，每个kernel_size 有两个输出 channel。\n",
    "* MaxPolling：第三层是一个1-max pooling层，这样不同长度句子经过pooling层之后都能变成定长的表示。\n",
    "* FullConnection and Softmax：最后接一层全连接的 softmax 层，输出每个类别的概率。\n",
    "一维卷积：<br>\n",
    "* 图像是二维卷积\n",
    "* 文本是一维数据，因此在TextCNN卷积用的是一维卷积（在word-level上是一维卷积，虽然文本经过词向量表达后是二维数据，但是在embedding-level上的二维卷积没有意义）。一维卷积带来的问题是需要通过设计不同kernel_size的filter获取不同宽度的视野。\n",
    "Pooling层：<br>\n",
    "利用CNN解决文本分类问题的文章还是很多的，比如这篇 [A Convolutional Neural Network for Modelling Sentences](https://arxiv.org/pdf/1404.2188.pdf) 最有意思的输入是在 pooling 改成 (dynamic) k-max pooling ，pooling阶段保留 k 个最大的信息，保留了全局的序列信息。<br>\n",
    "比如在情感分析场景，举个例子：<br>\n",
    "“我觉得这个地方景色还不错，但是人也实在太多了”<br>\n",
    " 虽然前半部分体现情感是正向的，全局文本表达的是偏负面的情感，利用 k-max pooling能够很好捕捉这类信息。<br>\n",
    "\n",
    "特征：这里用的是词向量表示方式<br>\n",
    "\n",
    "数据量较大：可以直接随机初始化embeddings，然后基于语料通过训练模型网络来对embeddings进行更新和学习。<br>\n",
    "数据量较小：可以利用外部语料来预训练(pre-train)词向量，然后输入到Embedding层，用预训练的词向量矩阵初始化embeddings。（通过设置weights=[embedding_matrix]）。<br>\n",
    "静态(static)方式：训练过程中不再更新embeddings。实质上属于迁移学习，特别是在目标领域数据量比较小的情况下，采用静态的词向量效果也不错。（通过设置trainable=False）<br>\n",
    "非静态(non-static)方式：在训练过程中对embeddings进行更新和微调(fine tune)，能加速收敛。（通过设置trainable=True）"
   ]
  },
  {
   "cell_type": "code",
   "execution_count": null,
   "metadata": {},
   "outputs": [],
   "source": []
  }
 ],
 "metadata": {
  "kernelspec": {
   "display_name": "Python [conda env:root] *",
   "language": "python",
   "name": "conda-root-py"
  },
  "language_info": {
   "codemirror_mode": {
    "name": "ipython",
    "version": 3
   },
   "file_extension": ".py",
   "mimetype": "text/x-python",
   "name": "python",
   "nbconvert_exporter": "python",
   "pygments_lexer": "ipython3",
   "version": "3.6.5"
  }
 },
 "nbformat": 4,
 "nbformat_minor": 2
}
