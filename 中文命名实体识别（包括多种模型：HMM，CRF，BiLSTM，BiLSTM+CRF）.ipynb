{
 "cells": [
  {
   "cell_type": "markdown",
   "metadata": {},
   "source": [
    "https://mp.weixin.qq.com/s?__biz=MzI4MDYzNzg4Mw==&mid=2247491136&idx=4&sn=c494f67be07f4c9723b87714ef900f9d&chksm=ebb42694dcc3af822d43671969bd111269dd09856979b8d2a0c59530b123ac371664502d0d28&scene=0&xtrack=1&key=3b68bb0c4e96a6b9ef9589ed1e0c173dce96a8d88ec0e7c49cf95740ab6f9435943e980e3c74bf2e7e4b8f1fb45036d2e8fddfefe61e1648cbdbb299554b34febf8d39323496a8eacfe0cffeca69474e&ascene=1&uin=MjA1MjAyODkxNg%3D%3D&devicetype=Windows+10&version=62070158&lang=zh_CN&exportkey=AWL8W4BMagEQzqw8UbogaU0%3D&pass_ticket=yDeZK1Ni9KdAek9Qn0y9yt8%2FI9Z0iF9V0FcStIMYOASiSWgy5Oz8FBfSq38MQyGM"
   ]
  },
  {
   "cell_type": "markdown",
   "metadata": {},
   "source": [
    "##### 手撕 BiLSTM-CRF\n",
    "https://mp.weixin.qq.com/s?__biz=Mzg3MDA3NTE1NQ==&mid=2247484540&idx=1&sn=6c7d8592d8daddd681f371dddcd0702a&chksm=ce921a00f9e59316f35239d368ceb9d9c3a4979bc5e6b2fdf4e6a0b302915fd37c7569689a60&mpshare=1&scene=23&srcid=&sharer_sharetime=1578711808145&sharer_shareid=7514b1d9c703dce6eeef59e0c32193fd#rd"
   ]
  },
  {
   "cell_type": "code",
   "execution_count": null,
   "metadata": {},
   "outputs": [],
   "source": []
  }
 ],
 "metadata": {
  "kernelspec": {
   "display_name": "Python [conda env:root] *",
   "language": "python",
   "name": "conda-root-py"
  },
  "language_info": {
   "codemirror_mode": {
    "name": "ipython",
    "version": 3
   },
   "file_extension": ".py",
   "mimetype": "text/x-python",
   "name": "python",
   "nbconvert_exporter": "python",
   "pygments_lexer": "ipython3",
   "version": "3.6.5"
  }
 },
 "nbformat": 4,
 "nbformat_minor": 4
}
