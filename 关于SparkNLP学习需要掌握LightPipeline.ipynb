{
 "cells": [
  {
   "cell_type": "markdown",
   "metadata": {},
   "source": [
    "https://mp.weixin.qq.com/s?__biz=MzI0ODcxODk5OA==&mid=2247512225&idx=4&sn=504b350dfd1cf4fa5e4d8e99f90644ff&chksm=e99e8358dee90a4e220d1d043bf0abcba8af9794b6174b4818c5536065aad02bd800c868941c&scene=0&xtrack=1&key=c74f5a077393516df6497cdf8f87960fad97d0e911a2c9e0fd81d7f8e6efb8ed029edd82604e3bbb69db50d77fb10cb78851490420e5cc73e4db7efa09ffec8e1bff50063aa41b8ab1d477bec7e4fba8&ascene=1&uin=MjA1MjAyODkxNg%3D%3D&devicetype=Windows+10&version=62070158&lang=zh_CN&exportkey=AUP3JG3Z21TTANUKfbpURUY%3D&pass_ticket=yDeZK1Ni9KdAek9Qn0y9yt8%2FI9Z0iF9V0FcStIMYOASiSWgy5Oz8FBfSq38MQyGM"
   ]
  },
  {
   "cell_type": "code",
   "execution_count": null,
   "metadata": {},
   "outputs": [],
   "source": [
    "from pyspark.ml import Pipeline"
   ]
  }
 ],
 "metadata": {
  "kernelspec": {
   "display_name": "Python [conda env:root] *",
   "language": "python",
   "name": "conda-root-py"
  },
  "language_info": {
   "codemirror_mode": {
    "name": "ipython",
    "version": 3
   },
   "file_extension": ".py",
   "mimetype": "text/x-python",
   "name": "python",
   "nbconvert_exporter": "python",
   "pygments_lexer": "ipython3",
   "version": "3.6.5"
  }
 },
 "nbformat": 4,
 "nbformat_minor": 4
}
