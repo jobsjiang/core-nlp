{
 "cells": [
  {
   "cell_type": "markdown",
   "metadata": {},
   "source": [
    "标记化"
   ]
  },
  {
   "cell_type": "code",
   "execution_count": 1,
   "metadata": {},
   "outputs": [
    {
     "name": "stdout",
     "output_type": "stream",
     "text": [
      "['the', 'red', 'fox', 'jumps', 'over', 'the', 'moon']\n"
     ]
    }
   ],
   "source": [
    "myText = 'The red fox jumps over the moon'\n",
    "myLowerText = myText.lower()\n",
    "myTextList = myLowerText.split()\n",
    "print(myTextList)"
   ]
  },
  {
   "cell_type": "markdown",
   "metadata": {},
   "source": [
    "语音部分"
   ]
  },
  {
   "cell_type": "code",
   "execution_count": 2,
   "metadata": {},
   "outputs": [
    {
     "name": "stdout",
     "output_type": "stream",
     "text": [
      "Parts of Speech: [('The', 'DT'), ('red', 'JJ'), ('fox', 'NN'), ('jumps', 'NNS'), ('over', 'IN'), ('the', 'DT'), ('moon', 'NN')]\n"
     ]
    }
   ],
   "source": [
    "import nltk\n",
    "myText = nltk.word_tokenize('The red fox jumps over the moon')\n",
    "print('Parts of Speech:',nltk.pos_tag(myText))"
   ]
  },
  {
   "cell_type": "markdown",
   "metadata": {},
   "source": [
    "停止词删除"
   ]
  },
  {
   "cell_type": "code",
   "execution_count": 3,
   "metadata": {},
   "outputs": [],
   "source": [
    "from nltk.corpus import stopwords\n",
    "from nltk.tokenize import word_tokenize"
   ]
  },
  {
   "cell_type": "code",
   "execution_count": 14,
   "metadata": {},
   "outputs": [
    {
     "name": "stdout",
     "output_type": "stream",
     "text": [
      "['red']\n",
      "['red', 'fox']\n",
      "['red', 'fox', 'animal']\n",
      "['red', 'fox', 'animal', 'able']\n",
      "['red', 'fox', 'animal', 'able', 'jump']\n",
      "['red', 'fox', 'animal', 'able', 'jump', 'moon']\n",
      "['red', 'fox', 'animal', 'able', 'jump', 'moon', '.']\n"
     ]
    }
   ],
   "source": [
    "example_sent = \"a red fox is an animal that is able to jump over the moon.\"\n",
    "stop_words = set(stopwords.words(\"english\")) \n",
    "word_tokens = word_tokenize(example_sent) \n",
    "# filtered_sentence = [w for w in word_tokens if w not in stop_words] \n",
    "filtered_sentence = [] \n",
    "for w in word_tokens: \n",
    "    if w not in stop_words: \n",
    "        filtered_sentence.append(w) \n",
    "        print(filtered_sentence)"
   ]
  },
  {
   "cell_type": "markdown",
   "metadata": {},
   "source": [
    "词干提取"
   ]
  },
  {
   "cell_type": "code",
   "execution_count": 15,
   "metadata": {},
   "outputs": [],
   "source": [
    "from nltk.stem import PorterStemmer\n",
    "from nltk.tokenize import word_tokenize"
   ]
  },
  {
   "cell_type": "code",
   "execution_count": 16,
   "metadata": {},
   "outputs": [
    {
     "name": "stdout",
     "output_type": "stream",
     "text": [
      "likes : like\n",
      "likely : like\n",
      "likes : like\n",
      "liking : like\n"
     ]
    }
   ],
   "source": [
    "ps = PorterStemmer()\n",
    "words = ['likes','likely','likes','liking']\n",
    "for w in words:\n",
    "    print(w,\":\",ps.stem(w))"
   ]
  },
  {
   "cell_type": "markdown",
   "metadata": {},
   "source": [
    "词形还原"
   ]
  },
  {
   "cell_type": "code",
   "execution_count": 17,
   "metadata": {},
   "outputs": [],
   "source": [
    "from nltk.stem import PorterStemmer\n",
    "from nltk.stem import WordNetLemmatizer"
   ]
  },
  {
   "cell_type": "code",
   "execution_count": 19,
   "metadata": {},
   "outputs": [
    {
     "name": "stdout",
     "output_type": "stream",
     "text": [
      "corpora STEMMING : corpora LEMMATIZATION corpora\n",
      "constructing STEMMING : construct LEMMATIZATION construct\n",
      "better STEMMING : better LEMMATIZATION better\n",
      "done STEMMING : done LEMMATIZATION do\n",
      "worst STEMMING : worst LEMMATIZATION worst\n",
      "pony STEMMING : poni LEMMATIZATION pony\n"
     ]
    }
   ],
   "source": [
    "lemmatizer = WordNetLemmatizer()\n",
    "ps = PorterStemmer()\n",
    "words = [\"corpora\", \"constructing\", \"better\", \"done\", \"worst\",\"pony\"]\n",
    "for w in words:\n",
    "    print(w, \"STEMMING :\", ps.stem(w),  \"LEMMATIZATION\", lemmatizer.lemmatize(w, pos='v'))"
   ]
  },
  {
   "cell_type": "code",
   "execution_count": null,
   "metadata": {},
   "outputs": [],
   "source": []
  }
 ],
 "metadata": {
  "kernelspec": {
   "display_name": "Python 3",
   "language": "python",
   "name": "python3"
  },
  "language_info": {
   "codemirror_mode": {
    "name": "ipython",
    "version": 3
   },
   "file_extension": ".py",
   "mimetype": "text/x-python",
   "name": "python",
   "nbconvert_exporter": "python",
   "pygments_lexer": "ipython3",
   "version": "3.6.5"
  }
 },
 "nbformat": 4,
 "nbformat_minor": 2
}
