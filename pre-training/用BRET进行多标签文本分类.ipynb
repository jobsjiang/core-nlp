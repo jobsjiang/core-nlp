{
 "cells": [
  {
   "cell_type": "markdown",
   "metadata": {},
   "source": [
    "https://mp.weixin.qq.com/s?__biz=MzU2OTA0NzE2NA==&mid=2247518312&idx=3&sn=6eab7eb54f1cba9c4e8013d640ed82a4&chksm=fc86697bcbf1e06dc90fcbd5387003b541aa0bda92e29ae8e79cf170a13fd47cd7aa423ac281&scene=0&xtrack=1&key=e9cd44e2700d611a88f414127d3bee767d9336e0bbde2d9ac83f1bdae925fd482b767bb101fc826384846f8f5e7ba88084f2684e3ad1c43b2e68faef0f27bd64c506e86af08b47ec87b7da58c60aa04b&ascene=1&uin=MjA1MjAyODkxNg%3D%3D&devicetype=Windows+10&version=62070158&lang=zh_CN&exportkey=AU4mqyRmzsE8qxhLnUSRfh4%3D&pass_ticket=dZVkVDcDR3nISU06iWfdLm0LvXTEGUEKYAVsgv1Nw90OPzNq3XGbnAvZaw8czXUi"
   ]
  },
  {
   "cell_type": "code",
   "execution_count": null,
   "metadata": {},
   "outputs": [],
   "source": []
  }
 ],
 "metadata": {
  "kernelspec": {
   "display_name": "Python [conda env:root] *",
   "language": "python",
   "name": "conda-root-py"
  },
  "language_info": {
   "codemirror_mode": {
    "name": "ipython",
    "version": 3
   },
   "file_extension": ".py",
   "mimetype": "text/x-python",
   "name": "python",
   "nbconvert_exporter": "python",
   "pygments_lexer": "ipython3",
   "version": "3.6.5"
  }
 },
 "nbformat": 4,
 "nbformat_minor": 4
}
