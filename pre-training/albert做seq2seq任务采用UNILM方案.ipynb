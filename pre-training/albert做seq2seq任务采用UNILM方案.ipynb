{
 "cells": [
  {
   "cell_type": "markdown",
   "metadata": {},
   "source": [
    "https://mp.weixin.qq.com/s?__biz=MzAxODExODczOA==&mid=2650132135&idx=1&sn=ac4ad1139cd68a02721d7fde3be8b7ce&chksm=83da4f9ab4adc68c9fee0904845d3accdf02d9e45167422ae76e49b5d797dfe15c4aa93db89e&mpshare=1&scene=1&srcid=&sharer_sharetime=1577859090373&sharer_shareid=9054f6fa4f6568946bf58df8e43df497&key=c74f5a077393516de698549582ad9d5eaa004eeaeec82bf63070d4fad0dc699dae07e8d24541d2f2fa8a86bf853982f107c3cbb35341f6edc8b91b8862021e5978053d4bcdd8ac6c16f7ff3e47aa91ca&ascene=1&uin=MjA1MjAyODkxNg%3D%3D&devicetype=Windows+10&version=62070158&lang=zh_CN&exportkey=AYT21%2B6Mkw%2Bc0vHHwiEgOIo%3D&pass_ticket=GXrBJi0nz9UhZr%2FyDAdscthAns1aqkYznChhGEbLQDgnebxFtlp3OfyBfsb%2BYIAf"
   ]
  },
  {
   "cell_type": "code",
   "execution_count": null,
   "metadata": {},
   "outputs": [],
   "source": []
  }
 ],
 "metadata": {
  "kernelspec": {
   "display_name": "Python [conda env:root] *",
   "language": "python",
   "name": "conda-root-py"
  },
  "language_info": {
   "codemirror_mode": {
    "name": "ipython",
    "version": 3
   },
   "file_extension": ".py",
   "mimetype": "text/x-python",
   "name": "python",
   "nbconvert_exporter": "python",
   "pygments_lexer": "ipython3",
   "version": "3.6.5"
  }
 },
 "nbformat": 4,
 "nbformat_minor": 4
}
