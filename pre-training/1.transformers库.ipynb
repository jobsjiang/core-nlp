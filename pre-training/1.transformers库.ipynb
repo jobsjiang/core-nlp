{
 "cells": [
  {
   "cell_type": "markdown",
   "metadata": {},
   "source": [
    "https://mp.weixin.qq.com/s?__biz=MzU1NDA4NjU2MA==&mid=2247498862&idx=2&sn=4bb482304634357fb2e951cd5be5ccaf&chksm=fbea45a1cc9dccb7be5d39b40694772b5804993a68185c782e2a84a4ecc84dd071f4a13c5a82&scene=0&xtrack=1&key=9ca3a05ed5363188bf53aede229e95246122d4e9de83eebad35bd294c3c6c7be0a996d80c37fc9b16603d0b7fb64f4a60355b961f26e4f5fd1e7fcff9d6151c7d2f1eb93c4b6f03e9a5bd506ebbe12d2&ascene=1&uin=MjA1MjAyODkxNg%3D%3D&devicetype=Windows+10&version=62070158&lang=zh_CN&pass_ticket=H5LtHDCn%2FAI3fkQD8WIys7I5XkI17fDcxDUGFq5RZt9HzbIomII0Uoj%2F9hwPDsb7"
   ]
  },
  {
   "cell_type": "code",
   "execution_count": null,
   "metadata": {},
   "outputs": [],
   "source": [
    "from transformers import BertModel,BertTokenizer,GPT2Model,GPT2Tokenizer"
   ]
  },
  {
   "cell_type": "code",
   "execution_count": null,
   "metadata": {},
   "outputs": [],
   "source": [
    "bert_model = BertModel.from_pretrained('bert-base-cased')\n",
    "bert_tokenizer = BertTokenizer.from_pretrained('bert-base-cased')"
   ]
  },
  {
   "cell_type": "code",
   "execution_count": null,
   "metadata": {},
   "outputs": [],
   "source": []
  }
 ],
 "metadata": {
  "kernelspec": {
   "display_name": "Python [conda env:root] *",
   "language": "python",
   "name": "conda-root-py"
  },
  "language_info": {
   "codemirror_mode": {
    "name": "ipython",
    "version": 3
   },
   "file_extension": ".py",
   "mimetype": "text/x-python",
   "name": "python",
   "nbconvert_exporter": "python",
   "pygments_lexer": "ipython3",
   "version": "3.6.5"
  }
 },
 "nbformat": 4,
 "nbformat_minor": 2
}
