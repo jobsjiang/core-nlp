{
 "cells": [
  {
   "cell_type": "markdown",
   "metadata": {},
   "source": [
    "https://mp.weixin.qq.com/s?__biz=MjM5ODkzMzMwMQ==&mid=2650411643&idx=2&sn=e2549dee919b84f50e137881a2e5bce3&chksm=becd942189ba1d375b27b651b73a4710215fba22f73aaa9d13551c7168a6e470167f9d6fc02a&scene=0&xtrack=1&key=cc05756d3b1d1e7aaaa35455a9f24585b4c00cec89acce6a8c9a0393815af24064ddc7a088f1266c598b04bf002d204fd31b8760cfeb1941e0729dcf7c357c1c7ea094a1f6d511c283e8546545758fc1&ascene=1&uin=MjA1MjAyODkxNg%3D%3D&devicetype=Windows+10&version=62070141&lang=zh_CN&pass_ticket=%2FljxmLK3OdGy6PUNNDKy%2FPUNR5POGV%2B2r7xuqNUwneZfVrH0p0KbDlMznJxrHhgS"
   ]
  },
  {
   "cell_type": "code",
   "execution_count": null,
   "metadata": {},
   "outputs": [],
   "source": []
  }
 ],
 "metadata": {
  "kernelspec": {
   "display_name": "Python [conda env:root] *",
   "language": "python",
   "name": "conda-root-py"
  },
  "language_info": {
   "codemirror_mode": {
    "name": "ipython",
    "version": 3
   },
   "file_extension": ".py",
   "mimetype": "text/x-python",
   "name": "python",
   "nbconvert_exporter": "python",
   "pygments_lexer": "ipython3",
   "version": "3.6.5"
  }
 },
 "nbformat": 4,
 "nbformat_minor": 4
}
