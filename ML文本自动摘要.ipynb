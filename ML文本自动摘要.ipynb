{
 "cells": [
  {
   "cell_type": "markdown",
   "metadata": {},
   "source": [
    "自然语言处理中有两种文本摘要生成方法：抽取式和抽象式，尽管抽象式摘要的表现更好，但开发相关算法需要复杂但深度学习技巧和语言模型，为了获得合理产出，抽象式摘要方法必须能够解决诸多自然语言处理问题，如自然语言生成，语义表征和推理排序。"
   ]
  },
  {
   "cell_type": "markdown",
   "metadata": {},
   "source": [
    "* 第一步：将这段话转换成句子\n",
    "* 第二步：文本处理，移除停止词，数字，标点符号以及句子中的其他特殊字符。句子成分的过滤有助于移除冗余和不重要的信息。\n",
    "* 第三步：分词\n",
    "* 第四步：评估单词的加权出现频率（用每个单词的出现频率除以这段话中出现最多次的单词的频率）\n",
    "* 第五步：用相应的加权频率替代原句中的各个单词，然后计算总和"
   ]
  },
  {
   "cell_type": "code",
   "execution_count": null,
   "metadata": {
    "ExecuteTime": {
     "end_time": "2019-07-17T15:31:21.067665Z",
     "start_time": "2019-07-17T15:30:04.748096Z"
    }
   },
   "outputs": [],
   "source": [
    "# 第一步：准备数据\n",
    "import bs4 as BeautifulSoup\n",
    "import urllib.request\n",
    "\n",
    "# fetched_data = urllib3.request.urlopen('https://en.wikipedia.org/wiki/20th_century')\n",
    "fetched_data = urllib.request.urlopen('https://en.wikipedia.org/wiki/20th_century')\n",
    "article_read = fetched_data.read()\n",
    "article_parse = BeautifulSoup.BeautifulSoup(article_read,'html.parse')\n",
    "\n",
    "paragraphs = article_parse.find_all('p')\n",
    "article_content = ''\n",
    "for p in paragraphs:\n",
    "    article_content += p.text"
   ]
  },
  {
   "cell_type": "code",
   "execution_count": null,
   "metadata": {},
   "outputs": [],
   "source": []
  }
 ],
 "metadata": {
  "kernelspec": {
   "display_name": "Python [conda env:python36]",
   "language": "python",
   "name": "conda-env-python36-py"
  },
  "language_info": {
   "codemirror_mode": {
    "name": "ipython",
    "version": 3
   },
   "file_extension": ".py",
   "mimetype": "text/x-python",
   "name": "python",
   "nbconvert_exporter": "python",
   "pygments_lexer": "ipython3",
   "version": "3.6.8"
  },
  "toc": {
   "base_numbering": 1,
   "nav_menu": {},
   "number_sections": true,
   "sideBar": true,
   "skip_h1_title": false,
   "title_cell": "Table of Contents",
   "title_sidebar": "Contents",
   "toc_cell": false,
   "toc_position": {},
   "toc_section_display": true,
   "toc_window_display": false
  },
  "varInspector": {
   "cols": {
    "lenName": 16,
    "lenType": 16,
    "lenVar": 40
   },
   "kernels_config": {
    "python": {
     "delete_cmd_postfix": "",
     "delete_cmd_prefix": "del ",
     "library": "var_list.py",
     "varRefreshCmd": "print(var_dic_list())"
    },
    "r": {
     "delete_cmd_postfix": ") ",
     "delete_cmd_prefix": "rm(",
     "library": "var_list.r",
     "varRefreshCmd": "cat(var_dic_list()) "
    }
   },
   "types_to_exclude": [
    "module",
    "function",
    "builtin_function_or_method",
    "instance",
    "_Feature"
   ],
   "window_display": false
  }
 },
 "nbformat": 4,
 "nbformat_minor": 2
}
