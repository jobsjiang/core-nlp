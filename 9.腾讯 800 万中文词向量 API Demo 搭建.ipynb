{
 "cells": [
  {
   "cell_type": "markdown",
   "metadata": {},
   "source": [
    "https://mp.weixin.qq.com/s?__biz=MjM5ODkzMzMwMQ==&mid=2650411944&idx=3&sn=be92a801fabefbbc73ea79420f9f37dd&chksm=becd95f289ba1ce4e8d922f6edfa02beda1b2a69c04d8d3216119c6e32fe02a99754c22e50b9&scene=0&xtrack=1&key=34412694f6e8d5bca12c1a278bf0bad12ff1a1c4bdabd863d3c98300b55e1321e148645e59555c471c3061e747ba3cbe38779f0a314956ada759f4e1e387c19662c795ceccbacf9542c7b8016d7500ed&ascene=1&uin=MjA1MjAyODkxNg%3D%3D&devicetype=Windows+10&version=62070158&lang=zh_CN&pass_ticket=2CgdfBbF3ioM5xeft85Q5afjTIv7Kmsub0excgekwvm6Mceh1lRQftDaiCeQXN%2B9"
   ]
  },
  {
   "cell_type": "markdown",
   "metadata": {},
   "source": [
    "下载的简易文件需要修改词的个数为99999个，要不提示错误EOFError: unexpected end of input; is count incorrect or file otherwise damaged?"
   ]
  },
  {
   "cell_type": "code",
   "execution_count": null,
   "metadata": {},
   "outputs": [],
   "source": []
  }
 ],
 "metadata": {
  "kernelspec": {
   "display_name": "Python [conda env:root] *",
   "language": "python",
   "name": "conda-root-py"
  },
  "language_info": {
   "codemirror_mode": {
    "name": "ipython",
    "version": 3
   },
   "file_extension": ".py",
   "mimetype": "text/x-python",
   "name": "python",
   "nbconvert_exporter": "python",
   "pygments_lexer": "ipython3",
   "version": "3.6.5"
  }
 },
 "nbformat": 4,
 "nbformat_minor": 2
}
