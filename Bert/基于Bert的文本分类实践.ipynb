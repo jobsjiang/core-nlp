{
 "cells": [
  {
   "cell_type": "markdown",
   "metadata": {},
   "source": [
    "https://mp.weixin.qq.com/s?__biz=MzIyNjM2MzQyNg==&mid=2247489454&idx=1&sn=17f747b0b5898574826d711fb8bf07c7&chksm=e870c6e3df074ff5d2611cc3d36a9db218d5cd0f65ad9bbfe5d7d86c0ff47b13e3d63594881a&mpshare=1&scene=1&srcid=&sharer_sharetime=1584190039160&sharer_shareid=1c9a89d4239961cb9bb2927d41f875b6&key=ed700bf6fc97e8c8b679340875f114a7db5787f4633cccbddcd1147613bdcbc7c1d1788a8aa4fe427e632843ebaca75864c5b497ffccedc0889e96daaa0f82f6658d5dae4b4d6ed0d840377190e92688&ascene=1&uin=MjA1MjAyODkxNg%3D%3D&devicetype=Windows+10&version=62080079&lang=zh_CN&exportkey=Ac8llj0qsUn26K5lMsUmgL8%3D&pass_ticket=47rY%2FjvYgmo1ZMNCcuO5qHhr63N%2BkW9Vsgt1fnbwRn8YSyYfFRHeAXQEaER1Dm45"
   ]
  },
  {
   "cell_type": "code",
   "execution_count": null,
   "metadata": {},
   "outputs": [],
   "source": []
  }
 ],
 "metadata": {
  "kernelspec": {
   "display_name": "Python [conda env:root] *",
   "language": "python",
   "name": "conda-root-py"
  },
  "language_info": {
   "codemirror_mode": {
    "name": "ipython",
    "version": 3
   },
   "file_extension": ".py",
   "mimetype": "text/x-python",
   "name": "python",
   "nbconvert_exporter": "python",
   "pygments_lexer": "ipython3",
   "version": "3.6.5"
  }
 },
 "nbformat": 4,
 "nbformat_minor": 4
}
