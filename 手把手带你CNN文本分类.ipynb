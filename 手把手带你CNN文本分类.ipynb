{
 "cells": [
  {
   "cell_type": "markdown",
   "metadata": {},
   "source": [
    "https://mp.weixin.qq.com/s?__biz=MzI4MDYzNzg4Mw==&mid=2247492050&idx=3&sn=6b0757ab57a041a4950bd60143c41e5b&chksm=ebb7d906dcc05010218ca5edf55e485a815b4c9cdb8ff2c604f1229336e17554e4edcb45a247&scene=126&sessionid=1582702037&key=26c378d410f2b0d422129ba410e8b73b03b00607b0c3616cdddadb012df5812ffebba615448f13b78a409135061c62388d45080cadf73bcbce58bf6da517b8d87756b16117df2043cf8d2dc33fc1fba6&ascene=1&uin=MjA1MjAyODkxNg%3D%3D&devicetype=Windows+10&version=6208006f&lang=zh_CN&exportkey=AXSIY0zGa4WwLSOf4VZYqKg%3D&pass_ticket=JwYQ5poiJ6Oi26oaQvRfSDN7PY8NBvVKysvt1xSM%2BhmH6UpnzJDBWQD4mSw4KRCl"
   ]
  },
  {
   "cell_type": "code",
   "execution_count": null,
   "metadata": {},
   "outputs": [],
   "source": []
  }
 ],
 "metadata": {
  "kernelspec": {
   "display_name": "Python [conda env:root] *",
   "language": "python",
   "name": "conda-root-py"
  },
  "language_info": {
   "codemirror_mode": {
    "name": "ipython",
    "version": 3
   },
   "file_extension": ".py",
   "mimetype": "text/x-python",
   "name": "python",
   "nbconvert_exporter": "python",
   "pygments_lexer": "ipython3",
   "version": "3.6.5"
  }
 },
 "nbformat": 4,
 "nbformat_minor": 4
}
