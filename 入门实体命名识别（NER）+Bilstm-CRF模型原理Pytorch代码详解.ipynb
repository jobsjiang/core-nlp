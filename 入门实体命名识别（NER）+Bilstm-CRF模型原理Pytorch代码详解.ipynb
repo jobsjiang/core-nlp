{
 "cells": [
  {
   "cell_type": "markdown",
   "metadata": {},
   "source": [
    "https://mp.weixin.qq.com/s?__biz=MzU3NjE4NjQ4MA==&mid=2247487893&idx=3&sn=aa6d0bcd563dc2a3a428716a320822d5&chksm=fd16e08aca61699c05eb498e7ba288761d04edf87e90f53d2c316c62e1c01284cea69736c811&scene=126&sessionid=1585552702&key=6cd994946a10e2bf728f0c0867fa03a14247355e4393e3fcdf2447be41e555815df1a9a8edf9f45b6ebcb6968b3ec1ba6cff62ffcb68ebfec02a1092e6b94d3f6baaf8fcbb624c19127221866e7b8c34&ascene=1&uin=MjA1MjAyODkxNg%3D%3D&devicetype=Windows+10&version=62080079&lang=zh_CN&exportkey=Acguw7e%2BdzlQOM6Op5OZd6M%3D&pass_ticket=Fpv8fp8em5IAw9pA%2BqA9lvrot3UmuHiGsvNsMFflCar44EStOpMqMe7%2B0LFkrhrD"
   ]
  },
  {
   "cell_type": "code",
   "execution_count": null,
   "metadata": {},
   "outputs": [],
   "source": []
  }
 ],
 "metadata": {
  "kernelspec": {
   "display_name": "Python [conda env:root] *",
   "language": "python",
   "name": "conda-root-py"
  },
  "language_info": {
   "codemirror_mode": {
    "name": "ipython",
    "version": 3
   },
   "file_extension": ".py",
   "mimetype": "text/x-python",
   "name": "python",
   "nbconvert_exporter": "python",
   "pygments_lexer": "ipython3",
   "version": "3.6.5"
  }
 },
 "nbformat": 4,
 "nbformat_minor": 4
}
