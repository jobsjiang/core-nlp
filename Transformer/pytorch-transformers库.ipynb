{
 "cells": [
  {
   "cell_type": "markdown",
   "metadata": {},
   "source": [
    "https://mp.weixin.qq.com/s?__biz=MzAxMjMwODMyMQ==&mid=2456340641&idx=1&sn=2291911a863307b4f16640ca6949b9f6&chksm=8c2fb2afbb583bb9815bebc9e059b66c557e3b292483b372ac850d7436635a3f4e6a4251f60b&scene=0&xtrack=1&key=9ca3a05ed53631885ac018d4df686ff4cc6753807c2949bce04434a223b98dbc14e544410e0f5c2836d6c797e08dd325af1f4656480a02c88fc28250e10773d7f2524a38e0be732a224fcdb188927c28&ascene=1&uin=MjA1MjAyODkxNg%3D%3D&devicetype=Windows+10&version=62060844&lang=zh_CN&pass_ticket=%2FzmGwpxT4cthH3HdGjUOJLZPmpm2Q1aeyBV936Prs4sBJG7Y%2FWQpQEofQTNukfO1"
   ]
  },
  {
   "cell_type": "code",
   "execution_count": 1,
   "metadata": {},
   "outputs": [],
   "source": [
    "import torch\n",
    "from pytorch_transformers import GPT2Tokenizer,GPT2LMHeadModel"
   ]
  },
  {
   "cell_type": "code",
   "execution_count": 2,
   "metadata": {},
   "outputs": [
    {
     "name": "stderr",
     "output_type": "stream",
     "text": [
      "100%|██████████████████████████████████████████████████████████████████████| 1042301/1042301 [00:28<00:00, 35983.74B/s]\n",
      "100%|███████████████████████████████████████████████████████████████████████| 456318/456318 [00:04<00:00, 108766.40B/s]\n"
     ]
    }
   ],
   "source": [
    "# 加载预训练模型tokenizer(vocabulary)\n",
    "tokenizer = GPT2Tokenizer.from_pretrained('gpt2')"
   ]
  },
  {
   "cell_type": "code",
   "execution_count": 3,
   "metadata": {},
   "outputs": [],
   "source": [
    "# 对文本输入进行编码\n",
    "text = \"What is the fastest car in the\"\n",
    "indexed_tokens = tokenizer.encode(text)"
   ]
  },
  {
   "cell_type": "code",
   "execution_count": 5,
   "metadata": {},
   "outputs": [],
   "source": [
    "# 在pytorch张量中转换indexed_tokens\n",
    "tokens_tensor = torch.tensor([indexed_tokens])"
   ]
  },
  {
   "cell_type": "code",
   "execution_count": null,
   "metadata": {},
   "outputs": [
    {
     "name": "stderr",
     "output_type": "stream",
     "text": [
      "100%|█████████████████████████████████████████████████████████████████████████████| 665/665 [00:00<00:00, 666637.71B/s]\n",
      "  4%|██▍                                                              | 20751360/548118077 [06:54<27:31:15, 5322.85B/s]"
     ]
    }
   ],
   "source": [
    "# 加载预训练模型（weights）\n",
    "model = GPT2LMHeadModel.from_pretrained('gpt2')"
   ]
  },
  {
   "cell_type": "code",
   "execution_count": null,
   "metadata": {},
   "outputs": [],
   "source": [
    "# 将模型设置为evaluation模型，关闭Dropout模块\n",
    "model.eval()\n",
    "# 如果你有GPU，把所有东西放在cuda上\n",
    "tok"
   ]
  }
 ],
 "metadata": {
  "kernelspec": {
   "display_name": "Python [conda env:root]",
   "language": "python",
   "name": "conda-root-py"
  },
  "language_info": {
   "codemirror_mode": {
    "name": "ipython",
    "version": 3
   },
   "file_extension": ".py",
   "mimetype": "text/x-python",
   "name": "python",
   "nbconvert_exporter": "python",
   "pygments_lexer": "ipython3",
   "version": "3.6.5"
  }
 },
 "nbformat": 4,
 "nbformat_minor": 4
}
