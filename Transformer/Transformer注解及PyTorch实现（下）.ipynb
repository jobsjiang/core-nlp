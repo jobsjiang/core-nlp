{
 "cells": [
  {
   "cell_type": "markdown",
   "metadata": {},
   "source": [
    "https://mp.weixin.qq.com/s?__biz=MjM5ODkzMzMwMQ==&mid=2650415427&idx=4&sn=8589590023a17e41ead72e29f764efc8&chksm=becda71989ba2e0fd413edebb3c49595aa104f6490ecd4724d37a221bb11158b672c306e8167&scene=126&sessionid=1597147862&key=5e7686a5aca6468b06f555009e18c40ebc6a5f0e5ef8c97720aa67942adbe7a86ecfcff99c7de836234a290f934c85e5c7061400532a96dcd6fc8514e30c42406a3c1a620e907849311cd8ccaaf26b2b&ascene=1&uin=MjA1MjAyODkxNg%3D%3D&devicetype=Windows+10+x64&version=62090529&lang=zh_CN&exportkey=Ac0hB%2BXdG26kpsNlTwfUqKY%3D&pass_ticket=oL991qQ%2BPwxN01wWri%2BnFsf7WjTdsbC%2B75hYZfxsEq%2Bt6QZQKOpvnN2XEKQ9fuFi"
   ]
  },
  {
   "cell_type": "code",
   "execution_count": null,
   "metadata": {},
   "outputs": [],
   "source": []
  }
 ],
 "metadata": {
  "kernelspec": {
   "display_name": "Python [conda env:root]",
   "language": "python",
   "name": "conda-root-py"
  },
  "language_info": {
   "codemirror_mode": {
    "name": "ipython",
    "version": 3
   },
   "file_extension": ".py",
   "mimetype": "text/x-python",
   "name": "python",
   "nbconvert_exporter": "python",
   "pygments_lexer": "ipython3",
   "version": "3.6.5"
  },
  "toc": {
   "base_numbering": 1,
   "nav_menu": {},
   "number_sections": true,
   "sideBar": true,
   "skip_h1_title": false,
   "title_cell": "Table of Contents",
   "title_sidebar": "Contents",
   "toc_cell": false,
   "toc_position": {},
   "toc_section_display": true,
   "toc_window_display": false
  }
 },
 "nbformat": 4,
 "nbformat_minor": 2
}
