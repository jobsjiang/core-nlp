{
 "cells": [
  {
   "cell_type": "markdown",
   "metadata": {},
   "source": [
    "https://mp.weixin.qq.com/s?__biz=MzU5MjgwMzM1NQ==&mid=2247497607&idx=1&sn=bc7228b6f1ca46d8956cfef1de5513cf&chksm=fe1894f3c96f1de5a79ffe45e08c0b7c4ff5bdb569d796a1cfff0c5233c979298216b99a88c2&mpshare=1&scene=1&srcid=0912EqwbwWODpZyXNsfBubLo&sharer_sharetime=1599960998820&sharer_shareid=76c7256f518be042b2c9b85c1b1ad471&key=14beeba64fb9d2876ace12610a5899c48a872d046b6821e8ed503e18274e07c6ff9c76afa033cbaa0674811d9270bf17e920edb2913eba41e69267aa6111300b4b56ac2bb75bc9dc6cf26167663635b43e696d8568c15dbbdedcac0ccb22013f72133a1084edcb95dee1d56ccffc02960a656edd64d6a0a825f479ef4cfd8a63&ascene=1&uin=MjA1MjAyODkxNg%3D%3D&devicetype=Windows+10+x64&version=62090529&lang=zh_CN&exportkey=AeR4uTXlY3ssZi6Ej5KJLF0%3D&pass_ticket=fgEWHiv568QJMZeS1%2Bfsw5OTdrRKdJMk6Y0vmIKTkZ96NGGbSbJCUQK0gQ9CzGXo&wx_header=0"
   ]
  },
  {
   "cell_type": "code",
   "execution_count": 1,
   "metadata": {},
   "outputs": [],
   "source": [
    "import torch"
   ]
  },
  {
   "cell_type": "code",
   "execution_count": 2,
   "metadata": {},
   "outputs": [],
   "source": [
    "x = [\n",
    "  [1, 0, 1, 0], # Input 1\n",
    "  [0, 2, 0, 2], # Input 2\n",
    "  [1, 1, 1, 1]  # Input 3\n",
    " ]"
   ]
  },
  {
   "cell_type": "code",
   "execution_count": 3,
   "metadata": {},
   "outputs": [],
   "source": [
    "x = torch.tensor(x,dtype=torch.float32)"
   ]
  },
  {
   "cell_type": "code",
   "execution_count": 4,
   "metadata": {},
   "outputs": [],
   "source": [
    "\n",
    "w_key = [\n",
    "  [0, 0, 1],\n",
    "  [1, 1, 0],\n",
    "  [0, 1, 0],\n",
    "  [1, 1, 0]\n",
    "]\n",
    "w_query = [\n",
    "  [1, 0, 1],\n",
    "  [1, 0, 0],\n",
    "  [0, 0, 1],\n",
    "  [0, 1, 1]\n",
    "]\n",
    "w_value = [\n",
    "  [0, 2, 0],\n",
    "  [0, 3, 0],\n",
    "  [1, 0, 3],\n",
    "  [1, 1, 0]\n",
    "]\n",
    "w_key = torch.tensor(w_key,dtype=torch.float32)\n",
    "w_query = torch.tensor(w_query,dtype=torch.float32)\n",
    "w_value = torch.tensor(w_value,dtype=torch.float32)"
   ]
  },
  {
   "cell_type": "code",
   "execution_count": 5,
   "metadata": {},
   "outputs": [],
   "source": [
    "# 推导键，查询和值\n",
    "keys = x @ w_key\n",
    "querys = x @ w_query\n",
    "values = x @ w_value"
   ]
  },
  {
   "cell_type": "code",
   "execution_count": 6,
   "metadata": {},
   "outputs": [],
   "source": [
    "# 计算注意力得分\n",
    "attn_scores = querys @ keys.T"
   ]
  },
  {
   "cell_type": "code",
   "execution_count": 7,
   "metadata": {},
   "outputs": [],
   "source": [
    "# 计算softmax\n",
    "\n",
    "from torch.nn.functional import softmax\n",
    "attn_scores_softmax = softmax(attn_scores, dim=-1)\n",
    "attn_scores_softmax = [\n",
    "  [0.0, 0.5, 0.5],\n",
    "  [0.0, 1.0, 0.0],\n",
    "  [0.0, 0.9, 0.1]\n",
    "]\n",
    "attn_scores_softmax = torch.tensor(attn_scores_softmax)"
   ]
  },
  {
   "cell_type": "code",
   "execution_count": 8,
   "metadata": {},
   "outputs": [],
   "source": [
    "# 将得分和值相乘\n",
    "weighted_values = values[:,None] * attn_scores_softmax.T[:,:,None]"
   ]
  },
  {
   "cell_type": "code",
   "execution_count": 9,
   "metadata": {},
   "outputs": [],
   "source": [
    "# 求和加权值\n",
    "outputs = weighted_values.sum(dim=0)"
   ]
  },
  {
   "cell_type": "code",
   "execution_count": 10,
   "metadata": {},
   "outputs": [
    {
     "data": {
      "text/plain": [
       "tensor([[2.0000, 7.0000, 1.5000],\n",
       "        [2.0000, 8.0000, 0.0000],\n",
       "        [2.0000, 7.8000, 0.3000]])"
      ]
     },
     "execution_count": 10,
     "metadata": {},
     "output_type": "execute_result"
    }
   ],
   "source": [
    "outputs"
   ]
  },
  {
   "cell_type": "code",
   "execution_count": null,
   "metadata": {},
   "outputs": [],
   "source": []
  }
 ],
 "metadata": {
  "kernelspec": {
   "display_name": "Python [conda env:root]",
   "language": "python",
   "name": "conda-root-py"
  },
  "language_info": {
   "codemirror_mode": {
    "name": "ipython",
    "version": 3
   },
   "file_extension": ".py",
   "mimetype": "text/x-python",
   "name": "python",
   "nbconvert_exporter": "python",
   "pygments_lexer": "ipython3",
   "version": "3.6.5"
  }
 },
 "nbformat": 4,
 "nbformat_minor": 4
}
